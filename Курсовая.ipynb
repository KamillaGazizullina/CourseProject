{
  "cells": [
    {
      "cell_type": "markdown",
      "metadata": {
        "id": "m0_UnE93Kypt"
      },
      "source": [
        "Курсовая работа:\n",
        "\n",
        "> Предсказание появления аурор\n",
        "\n"
      ]
    },
    {
      "cell_type": "markdown",
      "metadata": {
        "id": "rXDCrgoGLMDQ"
      },
      "source": [
        "Первая проблема: нужно обработать данные из Excel. Для этого подключаем библиотеку pandas."
      ]
    },
    {
      "cell_type": "code",
      "execution_count": null,
      "metadata": {
        "colab": {
          "base_uri": "https://localhost:8080/"
        },
        "id": "LbJTFG2fOces",
        "outputId": "ad0cea13-34f2-4a9f-ac08-e2f8191035a4"
      },
      "outputs": [
        {
          "output_type": "stream",
          "name": "stdout",
          "text": [
            " auroras_heatmap.html   drive  'new all dates.xlsx'   predictions.csv   sample_data\n"
          ]
        }
      ],
      "source": [
        "!ls"
      ]
    },
    {
      "cell_type": "code",
      "execution_count": null,
      "metadata": {
        "colab": {
          "base_uri": "https://localhost:8080/"
        },
        "id": "jFBKyQZbKgyR",
        "outputId": "062065d7-1a04-4581-e23f-bc91ff4373e4"
      },
      "outputs": [
        {
          "output_type": "stream",
          "name": "stdout",
          "text": [
            "        ДАТА  ISN  F107  NSN  NSA  XRBG  XRC  XRM  XRX  XRS   kp 1   kp 2  \\\n",
            "0 2020-01-01    6    72    0    0  A8.0    0    0    0    0  0.333  0.000   \n",
            "1 2020-01-02   12    72   13   20  A8.3    0    0    0    0  0.000  0.000   \n",
            "2 2020-01-03   13    71   13   20  A8.6    0    0    0    0  0.667  1.000   \n",
            "3 2020-01-04   12    72   11   10  A8.5    0    0    0    0  1.667  0.667   \n",
            "4 2020-01-05   14    72   11   10  A8.5    0    0    0    0  1.667  1.000   \n",
            "\n",
            "    kp 3   kp 4   kp 5   kp 6   kp 7   kp 8    kp res auror_res  \n",
            "0  0.000  0.667  0.667  1.333  1.000  0.667  0.583375       NaN  \n",
            "1  0.333  0.333  0.333  0.667  1.000  1.000  0.458250       NaN  \n",
            "2  2.667  2.000  1.000  0.667  0.333  1.333  1.208375       NaN  \n",
            "3  0.667  0.667  1.000  2.000  2.333  2.000  1.375125       NaN  \n",
            "4  1.667  1.333  2.000  2.000  3.333  2.667  1.958375       NaN  \n",
            "           ДАТА  ISN  F107  NSN  NSA XRBG  XRC  XRM  XRX  XRS   kp 1   kp 2  \\\n",
            "1456 2023-12-27   79   149   78  520    *    4    0    0    4  2.000  1.667   \n",
            "1457 2023-12-28   97   147   83  430    *    4    0    0    4  0.000  0.000   \n",
            "1458 2023-12-29   87   143   92  582    *   11    0    0   11  1.333  1.000   \n",
            "1459 2023-12-30   71   140   48  470    *    9    0    0    9  1.000  2.333   \n",
            "1460 2023-12-31   54   146   55  380    *   10    1    1   40  0.000  0.667   \n",
            "\n",
            "       kp 3   kp 4   kp 5   kp 6   kp 7   kp 8    kp res auror_res  \n",
            "1456  1.000  1.333  0.333  0.667  0.667  0.333  1.000000       NaN  \n",
            "1457  0.667  0.333  0.333  0.333  0.000  1.667  0.416625       NaN  \n",
            "1458  1.333  2.000  1.667  0.667  1.667  2.333  1.500000       NaN  \n",
            "1459  1.333  0.333  0.667  1.000  1.000  0.000  0.958250       NaN  \n",
            "1460  0.333  0.333  0.333  0.667  1.000  1.333  0.583250       YES  \n"
          ]
        }
      ],
      "source": [
        "#pip install pandas scikit-learn openpyxl\n",
        "import pandas as pd\n",
        "import numpy as np\n",
        "\n",
        "# Загрузили данные из Excel файла\n",
        "data = pd.read_excel('new all dates.xlsx')\n",
        "\n",
        "# вывод первых 5 строк данных\n",
        "print(data.head())\n",
        "\n",
        "print(data.tail())\n"
      ]
    },
    {
      "cell_type": "markdown",
      "metadata": {
        "id": "JYYkLX10E97o"
      },
      "source": [
        "преобразуем столбец с датами в удобный формат для модели. Будем отсчитывать кол-во дней, начиная с 1 января. Например 3 января - это 3, 1 февраля - это 32 и т.д."
      ]
    },
    {
      "cell_type": "code",
      "execution_count": null,
      "metadata": {
        "colab": {
          "base_uri": "https://localhost:8080/"
        },
        "id": "mJMtLWj2FTbu",
        "outputId": "6882e2c6-de86-4cf8-e011-c66d03e5e2cb"
      },
      "outputs": [
        {
          "output_type": "stream",
          "name": "stdout",
          "text": [
            "   ДАТА  ISN  F107  NSN  NSA  XRBG  XRC  XRM  XRX  XRS   kp 1   kp 2   kp 3  \\\n",
            "0     0    6    72    0    0  A8.0    0    0    0    0  0.333  0.000  0.000   \n",
            "1     1   12    72   13   20  A8.3    0    0    0    0  0.000  0.000  0.333   \n",
            "2     2   13    71   13   20  A8.6    0    0    0    0  0.667  1.000  2.667   \n",
            "3     3   12    72   11   10  A8.5    0    0    0    0  1.667  0.667  0.667   \n",
            "4     4   14    72   11   10  A8.5    0    0    0    0  1.667  1.000  1.667   \n",
            "\n",
            "    kp 4   kp 5   kp 6   kp 7   kp 8    kp res auror_res  \n",
            "0  0.667  0.667  1.333  1.000  0.667  0.583375       NaN  \n",
            "1  0.333  0.333  0.667  1.000  1.000  0.458250       NaN  \n",
            "2  2.000  1.000  0.667  0.333  1.333  1.208375       NaN  \n",
            "3  0.667  1.000  2.000  2.333  2.000  1.375125       NaN  \n",
            "4  1.333  2.000  2.000  3.333  2.667  1.958375       NaN  \n"
          ]
        }
      ],
      "source": [
        "data['ДАТА'] = (data['ДАТА'] - pd.Timestamp(\"2020-01-01\")) // pd.Timedelta('1D')\n",
        "print(data.head())"
      ]
    },
    {
      "cell_type": "markdown",
      "metadata": {
        "id": "eCmo1Z0aMmCk"
      },
      "source": [
        "У нас есть столбец XRBG. Там записаны значения уровня фоновой рентгеновской радиации в очень неудобном формате. Например, A8.3. И как это разобрать?\n",
        "Для начала уберём букву \"А\", т.к там везде написана эта буква. И расшифруем числа по категориям: А8.3 --> 8.3 --> очень высокий\n",
        "\n",
        "Разделение по категориям:\n",
        "\n",
        "[0, 5, 6, 7, 8, 9]  # Определяем границы для категорий\n",
        "\n",
        "['Очень низкий', 'Низкий', 'Средний', 'Высокий', 'Очень высокий']\n",
        "\n",
        "От 0 до 5 очень низкий, от 5 до 6 низкий и т.д."
      ]
    },
    {
      "cell_type": "markdown",
      "metadata": {
        "id": "zTX3cGP_G53s"
      },
      "source": [
        "Для корректного обучения модели необходимо почистить данные. В столбце XRBG данные A8.3 или *.\n",
        "\n",
        "Заменим нечитаемые символы '*' на 0.\n"
      ]
    },
    {
      "cell_type": "code",
      "execution_count": null,
      "metadata": {
        "colab": {
          "base_uri": "https://localhost:8080/"
        },
        "id": "i5W4KOxDwwf3",
        "outputId": "a8d97e47-d2fe-462d-9591-f723557007c9"
      },
      "outputs": [
        {
          "output_type": "stream",
          "name": "stdout",
          "text": [
            "   ДАТА  ISN  F107  NSN  NSA  XRBG  XRC  XRM  XRX  XRS   kp 1   kp 2   kp 3  \\\n",
            "0     0    6    72    0    0   8.0    0    0    0    0  0.333  0.000  0.000   \n",
            "1     1   12    72   13   20   8.3    0    0    0    0  0.000  0.000  0.333   \n",
            "2     2   13    71   13   20   8.6    0    0    0    0  0.667  1.000  2.667   \n",
            "3     3   12    72   11   10   8.5    0    0    0    0  1.667  0.667  0.667   \n",
            "4     4   14    72   11   10   8.5    0    0    0    0  1.667  1.000  1.667   \n",
            "\n",
            "    kp 4   kp 5   kp 6   kp 7   kp 8    kp res auror_res  \n",
            "0  0.667  0.667  1.333  1.000  0.667  0.583375       NaN  \n",
            "1  0.333  0.333  0.667  1.000  1.000  0.458250       NaN  \n",
            "2  2.000  1.000  0.667  0.333  1.333  1.208375       NaN  \n",
            "3  0.667  1.000  2.000  2.333  2.000  1.375125       NaN  \n",
            "4  1.333  2.000  2.000  3.333  2.667  1.958375       NaN  \n",
            "      ДАТА  ISN  F107  NSN  NSA  XRBG  XRC  XRM  XRX  XRS   kp 1   kp 2  \\\n",
            "1456  1456   79   149   78  520   NaN    4    0    0    4  2.000  1.667   \n",
            "1457  1457   97   147   83  430   NaN    4    0    0    4  0.000  0.000   \n",
            "1458  1458   87   143   92  582   NaN   11    0    0   11  1.333  1.000   \n",
            "1459  1459   71   140   48  470   NaN    9    0    0    9  1.000  2.333   \n",
            "1460  1460   54   146   55  380   NaN   10    1    1   40  0.000  0.667   \n",
            "\n",
            "       kp 3   kp 4   kp 5   kp 6   kp 7   kp 8    kp res auror_res  \n",
            "1456  1.000  1.333  0.333  0.667  0.667  0.333  1.000000       NaN  \n",
            "1457  0.667  0.333  0.333  0.333  0.000  1.667  0.416625       NaN  \n",
            "1458  1.333  2.000  1.667  0.667  1.667  2.333  1.500000       NaN  \n",
            "1459  1.333  0.333  0.667  1.000  1.000  0.000  0.958250       NaN  \n",
            "1460  0.333  0.333  0.333  0.667  1.000  1.333  0.583250       YES  \n"
          ]
        }
      ],
      "source": [
        "# Заменяем '*' на 0 только в столбце 'XRBG'\n",
        "data['XRBG'] = data['XRBG'].replace('*', 0)\n",
        "\n",
        "# Удаляем символ 'A' и преобразуем строки в числа\n",
        "data['XRBG'] = data['XRBG'].str.replace('A', '').astype(float)\n",
        "\n",
        "\n",
        "print(data.head()) # первые 5 строк табл\n",
        "print(data.tail()) # последние 5 строк табл\n",
        "\n",
        "\n"
      ]
    },
    {
      "cell_type": "code",
      "execution_count": null,
      "metadata": {
        "colab": {
          "base_uri": "https://localhost:8080/"
        },
        "id": "0VPm9Lnt1WAX",
        "outputId": "ce20ee55-d1ed-4f13-86f4-65c00d20d8a8"
      },
      "outputs": [
        {
          "output_type": "stream",
          "name": "stdout",
          "text": [
            "1392\n"
          ]
        }
      ],
      "source": [
        "# Проверим, остались ли NaN после преобразования\n",
        "print(data['XRBG'].isna().sum())"
      ]
    },
    {
      "cell_type": "markdown",
      "metadata": {
        "id": "qEqM3SLu1HQF"
      },
      "source": [
        "Видим, что в столбце XRBG 0 превратилось в NaN. Надо исправить на 0:"
      ]
    },
    {
      "cell_type": "code",
      "execution_count": null,
      "metadata": {
        "colab": {
          "base_uri": "https://localhost:8080/"
        },
        "id": "987G0zrjXhZM",
        "outputId": "fc820df5-40b0-4a2a-f703-3b02f007593b"
      },
      "outputs": [
        {
          "output_type": "stream",
          "name": "stdout",
          "text": [
            "      ДАТА  ISN  F107  NSN  NSA  XRBG  XRC  XRM  XRX  XRS   kp 1   kp 2  \\\n",
            "1456  1456   79   149   78  520   0.0    4    0    0    4  2.000  1.667   \n",
            "1457  1457   97   147   83  430   0.0    4    0    0    4  0.000  0.000   \n",
            "1458  1458   87   143   92  582   0.0   11    0    0   11  1.333  1.000   \n",
            "1459  1459   71   140   48  470   0.0    9    0    0    9  1.000  2.333   \n",
            "1460  1460   54   146   55  380   0.0   10    1    1   40  0.000  0.667   \n",
            "\n",
            "       kp 3   kp 4   kp 5   kp 6   kp 7   kp 8    kp res auror_res  \n",
            "1456  1.000  1.333  0.333  0.667  0.667  0.333  1.000000       NaN  \n",
            "1457  0.667  0.333  0.333  0.333  0.000  1.667  0.416625       NaN  \n",
            "1458  1.333  2.000  1.667  0.667  1.667  2.333  1.500000       NaN  \n",
            "1459  1.333  0.333  0.667  1.000  1.000  0.000  0.958250       NaN  \n",
            "1460  0.333  0.333  0.333  0.667  1.000  1.333  0.583250       YES  \n"
          ]
        }
      ],
      "source": [
        "data['XRBG'] = data['XRBG'].fillna(0)\n",
        "print(data.tail()) # последние 5 строк табл"
      ]
    },
    {
      "cell_type": "code",
      "execution_count": null,
      "metadata": {
        "id": "6TT5-a9kBvMI"
      },
      "outputs": [],
      "source": [
        "# Определяем границы для категорий\n",
        "bins = [-1, 5, 6, 7, 8, 10]\n",
        "labels = ['Очень низкий', 'Низкий', 'Средний', 'Высокий', 'Очень высокий']\n",
        "# X_train['XRBG_category'] = pd.cut(X_train['XRBG'].str.replace('A', '').astype(float), bins=bins, labels=labels)\n",
        "\n",
        "# Разбиение на категории без преобразования строк\n",
        "data['XRBG_category'] = pd.cut(data['XRBG'], bins=bins, labels=labels)\n"
      ]
    },
    {
      "cell_type": "code",
      "execution_count": null,
      "metadata": {
        "colab": {
          "base_uri": "https://localhost:8080/"
        },
        "id": "2t9v579ixGhl",
        "outputId": "3c514c2d-5996-47a0-c965-bc3aad4d323e"
      },
      "outputs": [
        {
          "output_type": "stream",
          "name": "stdout",
          "text": [
            "   ДАТА  ISN  F107  NSN  NSA  XRBG  XRC  XRM  XRX  XRS  ...   kp 2   kp 3  \\\n",
            "0     0    6    72    0    0   8.0    0    0    0    0  ...  0.000  0.000   \n",
            "1     1   12    72   13   20   8.3    0    0    0    0  ...  0.000  0.333   \n",
            "2     2   13    71   13   20   8.6    0    0    0    0  ...  1.000  2.667   \n",
            "3     3   12    72   11   10   8.5    0    0    0    0  ...  0.667  0.667   \n",
            "4     4   14    72   11   10   8.5    0    0    0    0  ...  1.000  1.667   \n",
            "\n",
            "    kp 4   kp 5   kp 6   kp 7   kp 8    kp res  auror_res  XRBG_category  \n",
            "0  0.667  0.667  1.333  1.000  0.667  0.583375        NaN        Высокий  \n",
            "1  0.333  0.333  0.667  1.000  1.000  0.458250        NaN  Очень высокий  \n",
            "2  2.000  1.000  0.667  0.333  1.333  1.208375        NaN  Очень высокий  \n",
            "3  0.667  1.000  2.000  2.333  2.000  1.375125        NaN  Очень высокий  \n",
            "4  1.333  2.000  2.000  3.333  2.667  1.958375        NaN  Очень высокий  \n",
            "\n",
            "[5 rows x 21 columns]\n"
          ]
        }
      ],
      "source": [
        "print(data.head()) # первые 5 строк табл"
      ]
    },
    {
      "cell_type": "code",
      "execution_count": null,
      "metadata": {
        "colab": {
          "base_uri": "https://localhost:8080/"
        },
        "id": "zSu5Eu4Bxwm-",
        "outputId": "e2099ec9-db16-44fc-f0cd-20981c434973"
      },
      "outputs": [
        {
          "output_type": "stream",
          "name": "stdout",
          "text": [
            "      ДАТА  ISN  F107  NSN  NSA  XRBG  XRC  XRM  XRX  XRS  ...   kp 2   kp 3  \\\n",
            "1456  1456   79   149   78  520   0.0    4    0    0    4  ...  1.667  1.000   \n",
            "1457  1457   97   147   83  430   0.0    4    0    0    4  ...  0.000  0.667   \n",
            "1458  1458   87   143   92  582   0.0   11    0    0   11  ...  1.000  1.333   \n",
            "1459  1459   71   140   48  470   0.0    9    0    0    9  ...  2.333  1.333   \n",
            "1460  1460   54   146   55  380   0.0   10    1    1   40  ...  0.667  0.333   \n",
            "\n",
            "       kp 4   kp 5   kp 6   kp 7   kp 8    kp res  auror_res XRBG_category  \n",
            "1456  1.333  0.333  0.667  0.667  0.333  1.000000        NaN  Очень низкий  \n",
            "1457  0.333  0.333  0.333  0.000  1.667  0.416625        NaN  Очень низкий  \n",
            "1458  2.000  1.667  0.667  1.667  2.333  1.500000        NaN  Очень низкий  \n",
            "1459  0.333  0.667  1.000  1.000  0.000  0.958250        NaN  Очень низкий  \n",
            "1460  0.333  0.333  0.667  1.000  1.333  0.583250        YES  Очень низкий  \n",
            "\n",
            "[5 rows x 21 columns]\n"
          ]
        }
      ],
      "source": [
        "print(data.tail()) # последние 5 строк табл\n"
      ]
    },
    {
      "cell_type": "markdown",
      "metadata": {
        "id": "0ju6-meUQUxZ"
      },
      "source": [
        "Заменим столбец с результатами auror_res: YES на 1, Nan на 0"
      ]
    },
    {
      "cell_type": "code",
      "execution_count": null,
      "metadata": {
        "colab": {
          "base_uri": "https://localhost:8080/"
        },
        "id": "wdgg7MPBQmrs",
        "outputId": "ab1c8127-f918-48f7-be1e-66b48bfc5e86"
      },
      "outputs": [
        {
          "output_type": "stream",
          "name": "stdout",
          "text": [
            "   ДАТА  ISN  F107  NSN  NSA  XRBG  XRC  XRM  XRX  XRS  ...   kp 2   kp 3  \\\n",
            "0     0    6    72    0    0   8.0    0    0    0    0  ...  0.000  0.000   \n",
            "1     1   12    72   13   20   8.3    0    0    0    0  ...  0.000  0.333   \n",
            "2     2   13    71   13   20   8.6    0    0    0    0  ...  1.000  2.667   \n",
            "3     3   12    72   11   10   8.5    0    0    0    0  ...  0.667  0.667   \n",
            "4     4   14    72   11   10   8.5    0    0    0    0  ...  1.000  1.667   \n",
            "\n",
            "    kp 4   kp 5   kp 6   kp 7   kp 8    kp res  auror_res  XRBG_category  \n",
            "0  0.667  0.667  1.333  1.000  0.667  0.583375          0        Высокий  \n",
            "1  0.333  0.333  0.667  1.000  1.000  0.458250          0  Очень высокий  \n",
            "2  2.000  1.000  0.667  0.333  1.333  1.208375          0  Очень высокий  \n",
            "3  0.667  1.000  2.000  2.333  2.000  1.375125          0  Очень высокий  \n",
            "4  1.333  2.000  2.000  3.333  2.667  1.958375          0  Очень высокий  \n",
            "\n",
            "[5 rows x 21 columns]\n",
            "      ДАТА  ISN  F107  NSN  NSA  XRBG  XRC  XRM  XRX  XRS  ...   kp 2   kp 3  \\\n",
            "1456  1456   79   149   78  520   0.0    4    0    0    4  ...  1.667  1.000   \n",
            "1457  1457   97   147   83  430   0.0    4    0    0    4  ...  0.000  0.667   \n",
            "1458  1458   87   143   92  582   0.0   11    0    0   11  ...  1.000  1.333   \n",
            "1459  1459   71   140   48  470   0.0    9    0    0    9  ...  2.333  1.333   \n",
            "1460  1460   54   146   55  380   0.0   10    1    1   40  ...  0.667  0.333   \n",
            "\n",
            "       kp 4   kp 5   kp 6   kp 7   kp 8    kp res  auror_res  XRBG_category  \n",
            "1456  1.333  0.333  0.667  0.667  0.333  1.000000          0   Очень низкий  \n",
            "1457  0.333  0.333  0.333  0.000  1.667  0.416625          0   Очень низкий  \n",
            "1458  2.000  1.667  0.667  1.667  2.333  1.500000          0   Очень низкий  \n",
            "1459  0.333  0.667  1.000  1.000  0.000  0.958250          0   Очень низкий  \n",
            "1460  0.333  0.333  0.667  1.000  1.333  0.583250          1   Очень низкий  \n",
            "\n",
            "[5 rows x 21 columns]\n"
          ]
        }
      ],
      "source": [
        "data['auror_res'] = data['auror_res'].fillna(0)\n",
        "data['auror_res'] = data['auror_res'].replace('YES', 1)\n",
        "\n",
        "print(data.head())\n",
        "\n",
        "print(data.tail())"
      ]
    },
    {
      "cell_type": "markdown",
      "metadata": {
        "id": "qgUvq2z3x4oZ"
      },
      "source": [
        "Разделим данные на Х и У:"
      ]
    },
    {
      "cell_type": "code",
      "execution_count": null,
      "metadata": {
        "id": "dkEANHGlOhmp"
      },
      "outputs": [],
      "source": [
        "X = data.drop(columns=['auror_res', 'XRBG_category'])  # Все столбцы, кроме 'Aurora' и 'XRBG_category'\n",
        "y = data['auror_res']  # Столбец с целевой переменной\n"
      ]
    },
    {
      "cell_type": "markdown",
      "metadata": {
        "id": "C8-T5dnCydmI"
      },
      "source": [
        "разделим данные на обучающую и тестовую выборки. 0.2 - это 20 проц тестовая, 80% обучащая"
      ]
    },
    {
      "cell_type": "code",
      "execution_count": null,
      "metadata": {
        "id": "Gv9u7CCZysEK"
      },
      "outputs": [],
      "source": [
        "from sklearn.model_selection import train_test_split\n",
        "\n",
        "X_train, X_test, y_train, y_test = train_test_split(X, y, test_size=0.3, random_state=42, stratify=y)\n"
      ]
    },
    {
      "cell_type": "code",
      "execution_count": null,
      "metadata": {
        "colab": {
          "base_uri": "https://localhost:8080/"
        },
        "id": "Rz507IHuunNk",
        "outputId": "62063029-efe9-4c1e-a2bb-054a28e12dd8"
      },
      "outputs": [
        {
          "output_type": "stream",
          "name": "stdout",
          "text": [
            "ДАТА      0\n",
            "ISN       0\n",
            "F107      0\n",
            "NSN       0\n",
            "NSA       0\n",
            "XRBG      0\n",
            "XRC       0\n",
            "XRM       0\n",
            "XRX       0\n",
            "XRS       0\n",
            "kp 1      0\n",
            "kp 2      0\n",
            "kp 3      0\n",
            "kp 4      0\n",
            "kp 5      0\n",
            "kp 6      0\n",
            "kp 7      0\n",
            "kp 8      0\n",
            "kp res    0\n",
            "dtype: int64\n"
          ]
        }
      ],
      "source": [
        "print(X_train.isna().sum())  # Покажет количество NaN в каждом столбце\n"
      ]
    },
    {
      "cell_type": "markdown",
      "metadata": {
        "id": "vl4jxFLky6q3"
      },
      "source": [
        "обучим модель с помощью RandomForest"
      ]
    },
    {
      "cell_type": "code",
      "execution_count": null,
      "metadata": {
        "colab": {
          "base_uri": "https://localhost:8080/",
          "height": 74
        },
        "id": "uggOP79dzr_K",
        "outputId": "f3accd53-7c90-4d57-c823-849ce6d00a1c"
      },
      "outputs": [
        {
          "output_type": "execute_result",
          "data": {
            "text/plain": [
              "RandomForestClassifier(n_estimators=200, random_state=42)"
            ],
            "text/html": [
              "<style>#sk-container-id-7 {color: black;background-color: white;}#sk-container-id-7 pre{padding: 0;}#sk-container-id-7 div.sk-toggleable {background-color: white;}#sk-container-id-7 label.sk-toggleable__label {cursor: pointer;display: block;width: 100%;margin-bottom: 0;padding: 0.3em;box-sizing: border-box;text-align: center;}#sk-container-id-7 label.sk-toggleable__label-arrow:before {content: \"▸\";float: left;margin-right: 0.25em;color: #696969;}#sk-container-id-7 label.sk-toggleable__label-arrow:hover:before {color: black;}#sk-container-id-7 div.sk-estimator:hover label.sk-toggleable__label-arrow:before {color: black;}#sk-container-id-7 div.sk-toggleable__content {max-height: 0;max-width: 0;overflow: hidden;text-align: left;background-color: #f0f8ff;}#sk-container-id-7 div.sk-toggleable__content pre {margin: 0.2em;color: black;border-radius: 0.25em;background-color: #f0f8ff;}#sk-container-id-7 input.sk-toggleable__control:checked~div.sk-toggleable__content {max-height: 200px;max-width: 100%;overflow: auto;}#sk-container-id-7 input.sk-toggleable__control:checked~label.sk-toggleable__label-arrow:before {content: \"▾\";}#sk-container-id-7 div.sk-estimator input.sk-toggleable__control:checked~label.sk-toggleable__label {background-color: #d4ebff;}#sk-container-id-7 div.sk-label input.sk-toggleable__control:checked~label.sk-toggleable__label {background-color: #d4ebff;}#sk-container-id-7 input.sk-hidden--visually {border: 0;clip: rect(1px 1px 1px 1px);clip: rect(1px, 1px, 1px, 1px);height: 1px;margin: -1px;overflow: hidden;padding: 0;position: absolute;width: 1px;}#sk-container-id-7 div.sk-estimator {font-family: monospace;background-color: #f0f8ff;border: 1px dotted black;border-radius: 0.25em;box-sizing: border-box;margin-bottom: 0.5em;}#sk-container-id-7 div.sk-estimator:hover {background-color: #d4ebff;}#sk-container-id-7 div.sk-parallel-item::after {content: \"\";width: 100%;border-bottom: 1px solid gray;flex-grow: 1;}#sk-container-id-7 div.sk-label:hover label.sk-toggleable__label {background-color: #d4ebff;}#sk-container-id-7 div.sk-serial::before {content: \"\";position: absolute;border-left: 1px solid gray;box-sizing: border-box;top: 0;bottom: 0;left: 50%;z-index: 0;}#sk-container-id-7 div.sk-serial {display: flex;flex-direction: column;align-items: center;background-color: white;padding-right: 0.2em;padding-left: 0.2em;position: relative;}#sk-container-id-7 div.sk-item {position: relative;z-index: 1;}#sk-container-id-7 div.sk-parallel {display: flex;align-items: stretch;justify-content: center;background-color: white;position: relative;}#sk-container-id-7 div.sk-item::before, #sk-container-id-7 div.sk-parallel-item::before {content: \"\";position: absolute;border-left: 1px solid gray;box-sizing: border-box;top: 0;bottom: 0;left: 50%;z-index: -1;}#sk-container-id-7 div.sk-parallel-item {display: flex;flex-direction: column;z-index: 1;position: relative;background-color: white;}#sk-container-id-7 div.sk-parallel-item:first-child::after {align-self: flex-end;width: 50%;}#sk-container-id-7 div.sk-parallel-item:last-child::after {align-self: flex-start;width: 50%;}#sk-container-id-7 div.sk-parallel-item:only-child::after {width: 0;}#sk-container-id-7 div.sk-dashed-wrapped {border: 1px dashed gray;margin: 0 0.4em 0.5em 0.4em;box-sizing: border-box;padding-bottom: 0.4em;background-color: white;}#sk-container-id-7 div.sk-label label {font-family: monospace;font-weight: bold;display: inline-block;line-height: 1.2em;}#sk-container-id-7 div.sk-label-container {text-align: center;}#sk-container-id-7 div.sk-container {/* jupyter's `normalize.less` sets `[hidden] { display: none; }` but bootstrap.min.css set `[hidden] { display: none !important; }` so we also need the `!important` here to be able to override the default hidden behavior on the sphinx rendered scikit-learn.org. See: https://github.com/scikit-learn/scikit-learn/issues/21755 */display: inline-block !important;position: relative;}#sk-container-id-7 div.sk-text-repr-fallback {display: none;}</style><div id=\"sk-container-id-7\" class=\"sk-top-container\"><div class=\"sk-text-repr-fallback\"><pre>RandomForestClassifier(n_estimators=200, random_state=42)</pre><b>In a Jupyter environment, please rerun this cell to show the HTML representation or trust the notebook. <br />On GitHub, the HTML representation is unable to render, please try loading this page with nbviewer.org.</b></div><div class=\"sk-container\" hidden><div class=\"sk-item\"><div class=\"sk-estimator sk-toggleable\"><input class=\"sk-toggleable__control sk-hidden--visually\" id=\"sk-estimator-id-7\" type=\"checkbox\" checked><label for=\"sk-estimator-id-7\" class=\"sk-toggleable__label sk-toggleable__label-arrow\">RandomForestClassifier</label><div class=\"sk-toggleable__content\"><pre>RandomForestClassifier(n_estimators=200, random_state=42)</pre></div></div></div></div></div>"
            ]
          },
          "metadata": {},
          "execution_count": 208
        }
      ],
      "source": [
        "from sklearn.ensemble import RandomForestClassifier\n",
        "\n",
        "# Обучение модели\n",
        "model = RandomForestClassifier(random_state=42, n_estimators=200)\n",
        "model.fit(X_train, y_train)\n"
      ]
    },
    {
      "cell_type": "markdown",
      "metadata": {
        "id": "tslfpbMaz2-v"
      },
      "source": [
        "оцениваем точность модели"
      ]
    },
    {
      "cell_type": "code",
      "execution_count": null,
      "metadata": {
        "colab": {
          "base_uri": "https://localhost:8080/"
        },
        "id": "MeNvM6pHz8At",
        "outputId": "951ee7b2-0e27-4af7-f9ff-22dd239b0c08"
      },
      "outputs": [
        {
          "output_type": "stream",
          "name": "stdout",
          "text": [
            "Test Accuracy: 0.92\n"
          ]
        }
      ],
      "source": [
        "# Оценка модели\n",
        "accuracy = model.score(X_test, y_test)\n",
        "print(f'Test Accuracy: {accuracy:.2f}')\n"
      ]
    },
    {
      "cell_type": "code",
      "source": [
        "from sklearn.metrics import classification_report\n",
        "\n",
        "# Получаем предсказания для тестового набора данных\n",
        "y_pred = model.predict(X_test)\n",
        "\n",
        "# Выводим отчет о классификации\n",
        "report = classification_report(y_test, y_pred, target_names=['0', '1'])\n",
        "print(report)\n"
      ],
      "metadata": {
        "colab": {
          "base_uri": "https://localhost:8080/"
        },
        "id": "w8mR-J8bwwHl",
        "outputId": "b110b886-35b1-4b53-89e7-f290450c10ec"
      },
      "execution_count": null,
      "outputs": [
        {
          "output_type": "stream",
          "name": "stdout",
          "text": [
            "              precision    recall  f1-score   support\n",
            "\n",
            "           0       0.94      0.98      0.96       407\n",
            "           1       0.33      0.16      0.21        32\n",
            "\n",
            "    accuracy                           0.92       439\n",
            "   macro avg       0.63      0.57      0.58       439\n",
            "weighted avg       0.89      0.92      0.90       439\n",
            "\n"
          ]
        }
      ]
    },
    {
      "cell_type": "code",
      "source": [
        "prediction = model.predict(X_test)\n",
        "mean_absolute_error(y_test, prediction)"
      ],
      "metadata": {
        "colab": {
          "base_uri": "https://localhost:8080/"
        },
        "id": "Nn3euPK5e3Rg",
        "outputId": "e864c445-4945-4d1c-ef2c-4b52837d02c7"
      },
      "execution_count": null,
      "outputs": [
        {
          "output_type": "execute_result",
          "data": {
            "text/plain": [
              "0.07517084282460136"
            ]
          },
          "metadata": {},
          "execution_count": 210
        }
      ]
    },
    {
      "cell_type": "code",
      "source": [
        "prediction # предсказанные полярные сияния"
      ],
      "metadata": {
        "colab": {
          "base_uri": "https://localhost:8080/"
        },
        "id": "L5_tn9tJgPxC",
        "outputId": "95a75397-c29d-45c4-d6be-c2f7aa8ecbea"
      },
      "execution_count": null,
      "outputs": [
        {
          "output_type": "execute_result",
          "data": {
            "text/plain": [
              "array([0, 0, 0, 0, 0, 0, 0, 0, 0, 0, 0, 0, 0, 0, 0, 0, 0, 0, 0, 0, 0, 0,\n",
              "       0, 0, 0, 0, 0, 0, 0, 1, 0, 0, 0, 0, 0, 0, 0, 0, 0, 0, 0, 0, 0, 0,\n",
              "       0, 0, 0, 0, 0, 0, 0, 0, 0, 0, 0, 0, 0, 0, 0, 0, 0, 0, 0, 0, 0, 0,\n",
              "       0, 0, 0, 0, 0, 0, 0, 0, 0, 0, 0, 0, 0, 0, 0, 0, 0, 0, 0, 0, 0, 0,\n",
              "       1, 0, 0, 0, 0, 0, 0, 0, 1, 0, 0, 0, 0, 0, 0, 0, 0, 0, 0, 0, 0, 0,\n",
              "       0, 0, 0, 0, 0, 0, 0, 0, 0, 0, 0, 0, 0, 0, 0, 0, 0, 0, 0, 0, 0, 0,\n",
              "       0, 0, 1, 0, 0, 0, 0, 0, 0, 0, 0, 0, 0, 0, 0, 0, 0, 0, 0, 0, 0, 0,\n",
              "       0, 0, 0, 0, 0, 0, 0, 0, 0, 0, 0, 0, 0, 0, 0, 0, 0, 0, 0, 0, 0, 0,\n",
              "       0, 0, 0, 0, 0, 0, 0, 0, 0, 0, 0, 0, 0, 0, 0, 0, 0, 0, 0, 0, 0, 0,\n",
              "       0, 0, 0, 0, 0, 0, 0, 0, 0, 0, 0, 0, 0, 0, 0, 0, 0, 0, 0, 0, 0, 0,\n",
              "       0, 0, 0, 0, 0, 0, 0, 0, 0, 0, 0, 0, 0, 0, 0, 0, 0, 0, 0, 0, 0, 0,\n",
              "       0, 0, 0, 0, 0, 0, 0, 0, 0, 0, 0, 0, 0, 1, 0, 0, 1, 0, 0, 0, 0, 0,\n",
              "       0, 0, 0, 0, 0, 0, 0, 1, 0, 0, 0, 0, 0, 0, 0, 0, 0, 0, 0, 0, 0, 1,\n",
              "       0, 0, 0, 0, 0, 0, 0, 0, 0, 0, 0, 0, 0, 0, 0, 0, 0, 0, 0, 0, 0, 0,\n",
              "       0, 0, 0, 0, 1, 0, 0, 0, 0, 0, 0, 0, 0, 0, 0, 0, 0, 0, 0, 0, 0, 0,\n",
              "       0, 0, 0, 0, 0, 0, 0, 0, 0, 0, 0, 0, 0, 1, 0, 0, 0, 0, 0, 0, 0, 0,\n",
              "       0, 0, 0, 0, 0, 0, 0, 0, 0, 0, 0, 0, 0, 0, 0, 0, 0, 0, 0, 0, 0, 0,\n",
              "       0, 0, 0, 0, 0, 0, 0, 0, 0, 0, 0, 0, 1, 0, 0, 0, 0, 0, 0, 0, 0, 0,\n",
              "       0, 0, 0, 0, 0, 1, 0, 0, 0, 0, 0, 0, 0, 0, 0, 0, 0, 0, 0, 0, 1, 0,\n",
              "       0, 0, 0, 0, 0, 0, 0, 0, 0, 0, 0, 0, 0, 0, 0, 0, 0, 0, 0, 0, 0])"
            ]
          },
          "metadata": {},
          "execution_count": 211
        }
      ]
    },
    {
      "cell_type": "code",
      "source": [
        "y_test.values # фактические полярные сияния"
      ],
      "metadata": {
        "colab": {
          "base_uri": "https://localhost:8080/"
        },
        "id": "0ajKRtN1gQ98",
        "outputId": "ce16354c-f59d-497b-e39e-81714d732f67"
      },
      "execution_count": null,
      "outputs": [
        {
          "output_type": "execute_result",
          "data": {
            "text/plain": [
              "array([0, 0, 0, 0, 0, 0, 0, 0, 0, 0, 0, 0, 1, 0, 0, 0, 0, 0, 0, 0, 0, 0,\n",
              "       0, 0, 0, 0, 0, 0, 0, 0, 0, 0, 0, 0, 0, 0, 0, 0, 0, 0, 1, 0, 0, 0,\n",
              "       0, 0, 1, 0, 0, 0, 0, 0, 0, 0, 0, 0, 0, 0, 0, 0, 0, 0, 0, 0, 1, 0,\n",
              "       0, 0, 0, 0, 0, 0, 0, 0, 0, 0, 0, 0, 0, 0, 0, 0, 0, 0, 0, 0, 0, 0,\n",
              "       0, 1, 0, 0, 0, 0, 0, 0, 1, 0, 0, 0, 0, 0, 0, 0, 0, 0, 0, 0, 0, 0,\n",
              "       0, 0, 0, 0, 1, 0, 0, 1, 0, 0, 0, 0, 0, 0, 1, 0, 0, 0, 0, 0, 0, 0,\n",
              "       0, 0, 0, 0, 0, 0, 0, 0, 0, 0, 0, 0, 0, 0, 0, 0, 0, 0, 0, 0, 0, 0,\n",
              "       0, 0, 0, 0, 0, 0, 0, 1, 0, 0, 0, 0, 0, 0, 1, 0, 0, 0, 0, 0, 0, 0,\n",
              "       0, 0, 0, 0, 0, 0, 0, 0, 0, 0, 1, 0, 0, 0, 0, 0, 0, 0, 0, 1, 0, 0,\n",
              "       0, 0, 0, 0, 0, 0, 0, 0, 0, 0, 0, 1, 0, 0, 0, 0, 0, 0, 0, 0, 0, 1,\n",
              "       0, 0, 0, 0, 0, 0, 0, 0, 1, 0, 0, 0, 0, 0, 0, 0, 0, 0, 1, 0, 0, 1,\n",
              "       0, 0, 0, 0, 0, 0, 0, 0, 0, 0, 0, 0, 0, 1, 0, 0, 0, 0, 0, 0, 0, 0,\n",
              "       0, 0, 0, 0, 0, 0, 0, 1, 0, 0, 0, 0, 0, 0, 0, 1, 0, 0, 0, 1, 0, 1,\n",
              "       0, 0, 0, 0, 0, 0, 0, 0, 0, 0, 0, 0, 0, 0, 0, 0, 0, 0, 0, 0, 0, 1,\n",
              "       0, 0, 0, 0, 1, 1, 0, 0, 0, 0, 0, 0, 0, 0, 0, 0, 0, 0, 0, 0, 1, 0,\n",
              "       0, 0, 0, 0, 0, 0, 0, 0, 0, 0, 0, 0, 0, 1, 0, 0, 0, 0, 0, 0, 0, 0,\n",
              "       0, 1, 0, 0, 0, 0, 0, 0, 0, 0, 0, 0, 0, 0, 0, 0, 0, 0, 0, 0, 0, 0,\n",
              "       0, 0, 0, 0, 0, 0, 0, 0, 0, 0, 0, 0, 0, 0, 0, 0, 0, 0, 0, 0, 0, 0,\n",
              "       0, 0, 0, 0, 0, 0, 0, 0, 0, 0, 0, 0, 0, 0, 0, 0, 0, 0, 0, 0, 0, 0,\n",
              "       0, 0, 1, 0, 0, 0, 0, 0, 0, 0, 0, 0, 1, 0, 0, 0, 0, 0, 0, 0, 1])"
            ]
          },
          "metadata": {},
          "execution_count": 212
        }
      ]
    },
    {
      "cell_type": "code",
      "source": [
        "X_test"
      ],
      "metadata": {
        "colab": {
          "base_uri": "https://localhost:8080/",
          "height": 419
        },
        "id": "rN5w4of5ffTQ",
        "outputId": "da435acc-b59e-4d36-c0b5-606ca1129f17"
      },
      "execution_count": null,
      "outputs": [
        {
          "output_type": "execute_result",
          "data": {
            "text/plain": [
              "      ДАТА  ISN  F107  NSN  NSA  XRBG  XRC  XRM  XRX  XRS   kp 1   kp 2  \\\n",
              "1126  1126   76   137   65  360   0.0    7    0    0    7  0.000  2.000   \n",
              "231    231   16    71   15   30   0.0    0    0    0    0  2.667  2.333   \n",
              "1129  1129   67   135   74  190   0.0    4    0    0    4  2.000  1.667   \n",
              "596    596   22    75   25   40   0.0    0    0    0    0  0.000  0.333   \n",
              "582    582   24    74   36   30   0.0    0    0    0    0  0.000  0.000   \n",
              "...    ...  ...   ...  ...  ...   ...  ...  ...  ...  ...    ...    ...   \n",
              "1375  1375  126   157  145  490   0.0    9    1    0   19  1.000  1.333   \n",
              "1260  1260  114   144  107  690   0.0    9    0    0    9  2.667  0.667   \n",
              "1019  1019   62   119   59  110   0.0    3    0    0    3  3.000  1.667   \n",
              "28      28   12    74   11   60   8.1    0    0    0    0  3.000  3.333   \n",
              "752    752   22    95   22  180   0.0    0    0    0    0  2.333  3.000   \n",
              "\n",
              "       kp 3   kp 4   kp 5   kp 6   kp 7   kp 8    kp res  \n",
              "1126  2.667  2.000  1.000  3.333  2.333  1.667  1.875000  \n",
              "231   0.333  0.333  0.333  0.667  0.667  1.000  1.041625  \n",
              "1129  0.333  0.333  1.667  3.000  2.667  1.667  1.666750  \n",
              "596   0.333  1.333  1.333  1.333  1.333  1.000  0.874750  \n",
              "582   0.000  0.333  0.333  1.000  0.667  0.000  0.291625  \n",
              "...     ...    ...    ...    ...    ...    ...       ...  \n",
              "1375  1.000  0.333  0.333  0.667  1.667  1.333  0.958250  \n",
              "1260  0.333  0.667  0.333  0.667  0.333  0.333  0.750000  \n",
              "1019  2.333  3.667  4.000  3.000  2.333  3.333  2.916625  \n",
              "28    1.667  1.333  0.333  1.667  1.667  2.000  1.875000  \n",
              "752   2.000  1.000  2.333  2.333  1.667  3.000  2.208250  \n",
              "\n",
              "[439 rows x 19 columns]"
            ],
            "text/html": [
              "\n",
              "  <div id=\"df-055797b5-7b9f-4402-897d-dc96f4bb074e\" class=\"colab-df-container\">\n",
              "    <div>\n",
              "<style scoped>\n",
              "    .dataframe tbody tr th:only-of-type {\n",
              "        vertical-align: middle;\n",
              "    }\n",
              "\n",
              "    .dataframe tbody tr th {\n",
              "        vertical-align: top;\n",
              "    }\n",
              "\n",
              "    .dataframe thead th {\n",
              "        text-align: right;\n",
              "    }\n",
              "</style>\n",
              "<table border=\"1\" class=\"dataframe\">\n",
              "  <thead>\n",
              "    <tr style=\"text-align: right;\">\n",
              "      <th></th>\n",
              "      <th>ДАТА</th>\n",
              "      <th>ISN</th>\n",
              "      <th>F107</th>\n",
              "      <th>NSN</th>\n",
              "      <th>NSA</th>\n",
              "      <th>XRBG</th>\n",
              "      <th>XRC</th>\n",
              "      <th>XRM</th>\n",
              "      <th>XRX</th>\n",
              "      <th>XRS</th>\n",
              "      <th>kp 1</th>\n",
              "      <th>kp 2</th>\n",
              "      <th>kp 3</th>\n",
              "      <th>kp 4</th>\n",
              "      <th>kp 5</th>\n",
              "      <th>kp 6</th>\n",
              "      <th>kp 7</th>\n",
              "      <th>kp 8</th>\n",
              "      <th>kp res</th>\n",
              "    </tr>\n",
              "  </thead>\n",
              "  <tbody>\n",
              "    <tr>\n",
              "      <th>1126</th>\n",
              "      <td>1126</td>\n",
              "      <td>76</td>\n",
              "      <td>137</td>\n",
              "      <td>65</td>\n",
              "      <td>360</td>\n",
              "      <td>0.0</td>\n",
              "      <td>7</td>\n",
              "      <td>0</td>\n",
              "      <td>0</td>\n",
              "      <td>7</td>\n",
              "      <td>0.000</td>\n",
              "      <td>2.000</td>\n",
              "      <td>2.667</td>\n",
              "      <td>2.000</td>\n",
              "      <td>1.000</td>\n",
              "      <td>3.333</td>\n",
              "      <td>2.333</td>\n",
              "      <td>1.667</td>\n",
              "      <td>1.875000</td>\n",
              "    </tr>\n",
              "    <tr>\n",
              "      <th>231</th>\n",
              "      <td>231</td>\n",
              "      <td>16</td>\n",
              "      <td>71</td>\n",
              "      <td>15</td>\n",
              "      <td>30</td>\n",
              "      <td>0.0</td>\n",
              "      <td>0</td>\n",
              "      <td>0</td>\n",
              "      <td>0</td>\n",
              "      <td>0</td>\n",
              "      <td>2.667</td>\n",
              "      <td>2.333</td>\n",
              "      <td>0.333</td>\n",
              "      <td>0.333</td>\n",
              "      <td>0.333</td>\n",
              "      <td>0.667</td>\n",
              "      <td>0.667</td>\n",
              "      <td>1.000</td>\n",
              "      <td>1.041625</td>\n",
              "    </tr>\n",
              "    <tr>\n",
              "      <th>1129</th>\n",
              "      <td>1129</td>\n",
              "      <td>67</td>\n",
              "      <td>135</td>\n",
              "      <td>74</td>\n",
              "      <td>190</td>\n",
              "      <td>0.0</td>\n",
              "      <td>4</td>\n",
              "      <td>0</td>\n",
              "      <td>0</td>\n",
              "      <td>4</td>\n",
              "      <td>2.000</td>\n",
              "      <td>1.667</td>\n",
              "      <td>0.333</td>\n",
              "      <td>0.333</td>\n",
              "      <td>1.667</td>\n",
              "      <td>3.000</td>\n",
              "      <td>2.667</td>\n",
              "      <td>1.667</td>\n",
              "      <td>1.666750</td>\n",
              "    </tr>\n",
              "    <tr>\n",
              "      <th>596</th>\n",
              "      <td>596</td>\n",
              "      <td>22</td>\n",
              "      <td>75</td>\n",
              "      <td>25</td>\n",
              "      <td>40</td>\n",
              "      <td>0.0</td>\n",
              "      <td>0</td>\n",
              "      <td>0</td>\n",
              "      <td>0</td>\n",
              "      <td>0</td>\n",
              "      <td>0.000</td>\n",
              "      <td>0.333</td>\n",
              "      <td>0.333</td>\n",
              "      <td>1.333</td>\n",
              "      <td>1.333</td>\n",
              "      <td>1.333</td>\n",
              "      <td>1.333</td>\n",
              "      <td>1.000</td>\n",
              "      <td>0.874750</td>\n",
              "    </tr>\n",
              "    <tr>\n",
              "      <th>582</th>\n",
              "      <td>582</td>\n",
              "      <td>24</td>\n",
              "      <td>74</td>\n",
              "      <td>36</td>\n",
              "      <td>30</td>\n",
              "      <td>0.0</td>\n",
              "      <td>0</td>\n",
              "      <td>0</td>\n",
              "      <td>0</td>\n",
              "      <td>0</td>\n",
              "      <td>0.000</td>\n",
              "      <td>0.000</td>\n",
              "      <td>0.000</td>\n",
              "      <td>0.333</td>\n",
              "      <td>0.333</td>\n",
              "      <td>1.000</td>\n",
              "      <td>0.667</td>\n",
              "      <td>0.000</td>\n",
              "      <td>0.291625</td>\n",
              "    </tr>\n",
              "    <tr>\n",
              "      <th>...</th>\n",
              "      <td>...</td>\n",
              "      <td>...</td>\n",
              "      <td>...</td>\n",
              "      <td>...</td>\n",
              "      <td>...</td>\n",
              "      <td>...</td>\n",
              "      <td>...</td>\n",
              "      <td>...</td>\n",
              "      <td>...</td>\n",
              "      <td>...</td>\n",
              "      <td>...</td>\n",
              "      <td>...</td>\n",
              "      <td>...</td>\n",
              "      <td>...</td>\n",
              "      <td>...</td>\n",
              "      <td>...</td>\n",
              "      <td>...</td>\n",
              "      <td>...</td>\n",
              "      <td>...</td>\n",
              "    </tr>\n",
              "    <tr>\n",
              "      <th>1375</th>\n",
              "      <td>1375</td>\n",
              "      <td>126</td>\n",
              "      <td>157</td>\n",
              "      <td>145</td>\n",
              "      <td>490</td>\n",
              "      <td>0.0</td>\n",
              "      <td>9</td>\n",
              "      <td>1</td>\n",
              "      <td>0</td>\n",
              "      <td>19</td>\n",
              "      <td>1.000</td>\n",
              "      <td>1.333</td>\n",
              "      <td>1.000</td>\n",
              "      <td>0.333</td>\n",
              "      <td>0.333</td>\n",
              "      <td>0.667</td>\n",
              "      <td>1.667</td>\n",
              "      <td>1.333</td>\n",
              "      <td>0.958250</td>\n",
              "    </tr>\n",
              "    <tr>\n",
              "      <th>1260</th>\n",
              "      <td>1260</td>\n",
              "      <td>114</td>\n",
              "      <td>144</td>\n",
              "      <td>107</td>\n",
              "      <td>690</td>\n",
              "      <td>0.0</td>\n",
              "      <td>9</td>\n",
              "      <td>0</td>\n",
              "      <td>0</td>\n",
              "      <td>9</td>\n",
              "      <td>2.667</td>\n",
              "      <td>0.667</td>\n",
              "      <td>0.333</td>\n",
              "      <td>0.667</td>\n",
              "      <td>0.333</td>\n",
              "      <td>0.667</td>\n",
              "      <td>0.333</td>\n",
              "      <td>0.333</td>\n",
              "      <td>0.750000</td>\n",
              "    </tr>\n",
              "    <tr>\n",
              "      <th>1019</th>\n",
              "      <td>1019</td>\n",
              "      <td>62</td>\n",
              "      <td>119</td>\n",
              "      <td>59</td>\n",
              "      <td>110</td>\n",
              "      <td>0.0</td>\n",
              "      <td>3</td>\n",
              "      <td>0</td>\n",
              "      <td>0</td>\n",
              "      <td>3</td>\n",
              "      <td>3.000</td>\n",
              "      <td>1.667</td>\n",
              "      <td>2.333</td>\n",
              "      <td>3.667</td>\n",
              "      <td>4.000</td>\n",
              "      <td>3.000</td>\n",
              "      <td>2.333</td>\n",
              "      <td>3.333</td>\n",
              "      <td>2.916625</td>\n",
              "    </tr>\n",
              "    <tr>\n",
              "      <th>28</th>\n",
              "      <td>28</td>\n",
              "      <td>12</td>\n",
              "      <td>74</td>\n",
              "      <td>11</td>\n",
              "      <td>60</td>\n",
              "      <td>8.1</td>\n",
              "      <td>0</td>\n",
              "      <td>0</td>\n",
              "      <td>0</td>\n",
              "      <td>0</td>\n",
              "      <td>3.000</td>\n",
              "      <td>3.333</td>\n",
              "      <td>1.667</td>\n",
              "      <td>1.333</td>\n",
              "      <td>0.333</td>\n",
              "      <td>1.667</td>\n",
              "      <td>1.667</td>\n",
              "      <td>2.000</td>\n",
              "      <td>1.875000</td>\n",
              "    </tr>\n",
              "    <tr>\n",
              "      <th>752</th>\n",
              "      <td>752</td>\n",
              "      <td>22</td>\n",
              "      <td>95</td>\n",
              "      <td>22</td>\n",
              "      <td>180</td>\n",
              "      <td>0.0</td>\n",
              "      <td>0</td>\n",
              "      <td>0</td>\n",
              "      <td>0</td>\n",
              "      <td>0</td>\n",
              "      <td>2.333</td>\n",
              "      <td>3.000</td>\n",
              "      <td>2.000</td>\n",
              "      <td>1.000</td>\n",
              "      <td>2.333</td>\n",
              "      <td>2.333</td>\n",
              "      <td>1.667</td>\n",
              "      <td>3.000</td>\n",
              "      <td>2.208250</td>\n",
              "    </tr>\n",
              "  </tbody>\n",
              "</table>\n",
              "<p>439 rows × 19 columns</p>\n",
              "</div>\n",
              "    <div class=\"colab-df-buttons\">\n",
              "\n",
              "  <div class=\"colab-df-container\">\n",
              "    <button class=\"colab-df-convert\" onclick=\"convertToInteractive('df-055797b5-7b9f-4402-897d-dc96f4bb074e')\"\n",
              "            title=\"Convert this dataframe to an interactive table.\"\n",
              "            style=\"display:none;\">\n",
              "\n",
              "  <svg xmlns=\"http://www.w3.org/2000/svg\" height=\"24px\" viewBox=\"0 -960 960 960\">\n",
              "    <path d=\"M120-120v-720h720v720H120Zm60-500h600v-160H180v160Zm220 220h160v-160H400v160Zm0 220h160v-160H400v160ZM180-400h160v-160H180v160Zm440 0h160v-160H620v160ZM180-180h160v-160H180v160Zm440 0h160v-160H620v160Z\"/>\n",
              "  </svg>\n",
              "    </button>\n",
              "\n",
              "  <style>\n",
              "    .colab-df-container {\n",
              "      display:flex;\n",
              "      gap: 12px;\n",
              "    }\n",
              "\n",
              "    .colab-df-convert {\n",
              "      background-color: #E8F0FE;\n",
              "      border: none;\n",
              "      border-radius: 50%;\n",
              "      cursor: pointer;\n",
              "      display: none;\n",
              "      fill: #1967D2;\n",
              "      height: 32px;\n",
              "      padding: 0 0 0 0;\n",
              "      width: 32px;\n",
              "    }\n",
              "\n",
              "    .colab-df-convert:hover {\n",
              "      background-color: #E2EBFA;\n",
              "      box-shadow: 0px 1px 2px rgba(60, 64, 67, 0.3), 0px 1px 3px 1px rgba(60, 64, 67, 0.15);\n",
              "      fill: #174EA6;\n",
              "    }\n",
              "\n",
              "    .colab-df-buttons div {\n",
              "      margin-bottom: 4px;\n",
              "    }\n",
              "\n",
              "    [theme=dark] .colab-df-convert {\n",
              "      background-color: #3B4455;\n",
              "      fill: #D2E3FC;\n",
              "    }\n",
              "\n",
              "    [theme=dark] .colab-df-convert:hover {\n",
              "      background-color: #434B5C;\n",
              "      box-shadow: 0px 1px 3px 1px rgba(0, 0, 0, 0.15);\n",
              "      filter: drop-shadow(0px 1px 2px rgba(0, 0, 0, 0.3));\n",
              "      fill: #FFFFFF;\n",
              "    }\n",
              "  </style>\n",
              "\n",
              "    <script>\n",
              "      const buttonEl =\n",
              "        document.querySelector('#df-055797b5-7b9f-4402-897d-dc96f4bb074e button.colab-df-convert');\n",
              "      buttonEl.style.display =\n",
              "        google.colab.kernel.accessAllowed ? 'block' : 'none';\n",
              "\n",
              "      async function convertToInteractive(key) {\n",
              "        const element = document.querySelector('#df-055797b5-7b9f-4402-897d-dc96f4bb074e');\n",
              "        const dataTable =\n",
              "          await google.colab.kernel.invokeFunction('convertToInteractive',\n",
              "                                                    [key], {});\n",
              "        if (!dataTable) return;\n",
              "\n",
              "        const docLinkHtml = 'Like what you see? Visit the ' +\n",
              "          '<a target=\"_blank\" href=https://colab.research.google.com/notebooks/data_table.ipynb>data table notebook</a>'\n",
              "          + ' to learn more about interactive tables.';\n",
              "        element.innerHTML = '';\n",
              "        dataTable['output_type'] = 'display_data';\n",
              "        await google.colab.output.renderOutput(dataTable, element);\n",
              "        const docLink = document.createElement('div');\n",
              "        docLink.innerHTML = docLinkHtml;\n",
              "        element.appendChild(docLink);\n",
              "      }\n",
              "    </script>\n",
              "  </div>\n",
              "\n",
              "\n",
              "<div id=\"df-e27ce5ff-4bdd-41bd-bbf6-7115f04a0f7b\">\n",
              "  <button class=\"colab-df-quickchart\" onclick=\"quickchart('df-e27ce5ff-4bdd-41bd-bbf6-7115f04a0f7b')\"\n",
              "            title=\"Suggest charts\"\n",
              "            style=\"display:none;\">\n",
              "\n",
              "<svg xmlns=\"http://www.w3.org/2000/svg\" height=\"24px\"viewBox=\"0 0 24 24\"\n",
              "     width=\"24px\">\n",
              "    <g>\n",
              "        <path d=\"M19 3H5c-1.1 0-2 .9-2 2v14c0 1.1.9 2 2 2h14c1.1 0 2-.9 2-2V5c0-1.1-.9-2-2-2zM9 17H7v-7h2v7zm4 0h-2V7h2v10zm4 0h-2v-4h2v4z\"/>\n",
              "    </g>\n",
              "</svg>\n",
              "  </button>\n",
              "\n",
              "<style>\n",
              "  .colab-df-quickchart {\n",
              "      --bg-color: #E8F0FE;\n",
              "      --fill-color: #1967D2;\n",
              "      --hover-bg-color: #E2EBFA;\n",
              "      --hover-fill-color: #174EA6;\n",
              "      --disabled-fill-color: #AAA;\n",
              "      --disabled-bg-color: #DDD;\n",
              "  }\n",
              "\n",
              "  [theme=dark] .colab-df-quickchart {\n",
              "      --bg-color: #3B4455;\n",
              "      --fill-color: #D2E3FC;\n",
              "      --hover-bg-color: #434B5C;\n",
              "      --hover-fill-color: #FFFFFF;\n",
              "      --disabled-bg-color: #3B4455;\n",
              "      --disabled-fill-color: #666;\n",
              "  }\n",
              "\n",
              "  .colab-df-quickchart {\n",
              "    background-color: var(--bg-color);\n",
              "    border: none;\n",
              "    border-radius: 50%;\n",
              "    cursor: pointer;\n",
              "    display: none;\n",
              "    fill: var(--fill-color);\n",
              "    height: 32px;\n",
              "    padding: 0;\n",
              "    width: 32px;\n",
              "  }\n",
              "\n",
              "  .colab-df-quickchart:hover {\n",
              "    background-color: var(--hover-bg-color);\n",
              "    box-shadow: 0 1px 2px rgba(60, 64, 67, 0.3), 0 1px 3px 1px rgba(60, 64, 67, 0.15);\n",
              "    fill: var(--button-hover-fill-color);\n",
              "  }\n",
              "\n",
              "  .colab-df-quickchart-complete:disabled,\n",
              "  .colab-df-quickchart-complete:disabled:hover {\n",
              "    background-color: var(--disabled-bg-color);\n",
              "    fill: var(--disabled-fill-color);\n",
              "    box-shadow: none;\n",
              "  }\n",
              "\n",
              "  .colab-df-spinner {\n",
              "    border: 2px solid var(--fill-color);\n",
              "    border-color: transparent;\n",
              "    border-bottom-color: var(--fill-color);\n",
              "    animation:\n",
              "      spin 1s steps(1) infinite;\n",
              "  }\n",
              "\n",
              "  @keyframes spin {\n",
              "    0% {\n",
              "      border-color: transparent;\n",
              "      border-bottom-color: var(--fill-color);\n",
              "      border-left-color: var(--fill-color);\n",
              "    }\n",
              "    20% {\n",
              "      border-color: transparent;\n",
              "      border-left-color: var(--fill-color);\n",
              "      border-top-color: var(--fill-color);\n",
              "    }\n",
              "    30% {\n",
              "      border-color: transparent;\n",
              "      border-left-color: var(--fill-color);\n",
              "      border-top-color: var(--fill-color);\n",
              "      border-right-color: var(--fill-color);\n",
              "    }\n",
              "    40% {\n",
              "      border-color: transparent;\n",
              "      border-right-color: var(--fill-color);\n",
              "      border-top-color: var(--fill-color);\n",
              "    }\n",
              "    60% {\n",
              "      border-color: transparent;\n",
              "      border-right-color: var(--fill-color);\n",
              "    }\n",
              "    80% {\n",
              "      border-color: transparent;\n",
              "      border-right-color: var(--fill-color);\n",
              "      border-bottom-color: var(--fill-color);\n",
              "    }\n",
              "    90% {\n",
              "      border-color: transparent;\n",
              "      border-bottom-color: var(--fill-color);\n",
              "    }\n",
              "  }\n",
              "</style>\n",
              "\n",
              "  <script>\n",
              "    async function quickchart(key) {\n",
              "      const quickchartButtonEl =\n",
              "        document.querySelector('#' + key + ' button');\n",
              "      quickchartButtonEl.disabled = true;  // To prevent multiple clicks.\n",
              "      quickchartButtonEl.classList.add('colab-df-spinner');\n",
              "      try {\n",
              "        const charts = await google.colab.kernel.invokeFunction(\n",
              "            'suggestCharts', [key], {});\n",
              "      } catch (error) {\n",
              "        console.error('Error during call to suggestCharts:', error);\n",
              "      }\n",
              "      quickchartButtonEl.classList.remove('colab-df-spinner');\n",
              "      quickchartButtonEl.classList.add('colab-df-quickchart-complete');\n",
              "    }\n",
              "    (() => {\n",
              "      let quickchartButtonEl =\n",
              "        document.querySelector('#df-e27ce5ff-4bdd-41bd-bbf6-7115f04a0f7b button');\n",
              "      quickchartButtonEl.style.display =\n",
              "        google.colab.kernel.accessAllowed ? 'block' : 'none';\n",
              "    })();\n",
              "  </script>\n",
              "</div>\n",
              "    </div>\n",
              "  </div>\n"
            ],
            "application/vnd.google.colaboratory.intrinsic+json": {
              "type": "dataframe",
              "variable_name": "X_test",
              "summary": "{\n  \"name\": \"X_test\",\n  \"rows\": 439,\n  \"fields\": [\n    {\n      \"column\": \"\\u0414\\u0410\\u0422\\u0410\",\n      \"properties\": {\n        \"dtype\": \"number\",\n        \"std\": 422,\n        \"min\": 1,\n        \"max\": 1458,\n        \"num_unique_values\": 439,\n        \"samples\": [\n          1050,\n          1132,\n          240\n        ],\n        \"semantic_type\": \"\",\n        \"description\": \"\"\n      }\n    },\n    {\n      \"column\": \"ISN\",\n      \"properties\": {\n        \"dtype\": \"number\",\n        \"std\": 57,\n        \"min\": 0,\n        \"max\": 228,\n        \"num_unique_values\": 156,\n        \"samples\": [\n          4,\n          14,\n          36\n        ],\n        \"semantic_type\": \"\",\n        \"description\": \"\"\n      }\n    },\n    {\n      \"column\": \"F107\",\n      \"properties\": {\n        \"dtype\": \"number\",\n        \"std\": 39,\n        \"min\": -1,\n        \"max\": 234,\n        \"num_unique_values\": 120,\n        \"samples\": [\n          76,\n          92,\n          74\n        ],\n        \"semantic_type\": \"\",\n        \"description\": \"\"\n      }\n    },\n    {\n      \"column\": \"NSN\",\n      \"properties\": {\n        \"dtype\": \"number\",\n        \"std\": 54,\n        \"min\": 0,\n        \"max\": 219,\n        \"num_unique_values\": 143,\n        \"samples\": [\n          34,\n          95,\n          47\n        ],\n        \"semantic_type\": \"\",\n        \"description\": \"\"\n      }\n    },\n    {\n      \"column\": \"NSA\",\n      \"properties\": {\n        \"dtype\": \"number\",\n        \"std\": 474,\n        \"min\": 0,\n        \"max\": 2290,\n        \"num_unique_values\": 139,\n        \"samples\": [\n          870,\n          330,\n          260\n        ],\n        \"semantic_type\": \"\",\n        \"description\": \"\"\n      }\n    },\n    {\n      \"column\": \"XRBG\",\n      \"properties\": {\n        \"dtype\": \"number\",\n        \"std\": 1.6483709291691022,\n        \"min\": 0.0,\n        \"max\": 9.0,\n        \"num_unique_values\": 14,\n        \"samples\": [\n          8.5,\n          3.6,\n          0.0\n        ],\n        \"semantic_type\": \"\",\n        \"description\": \"\"\n      }\n    },\n    {\n      \"column\": \"XRC\",\n      \"properties\": {\n        \"dtype\": \"number\",\n        \"std\": 4,\n        \"min\": 0,\n        \"max\": 19,\n        \"num_unique_values\": 19,\n        \"samples\": [\n          7,\n          10,\n          15\n        ],\n        \"semantic_type\": \"\",\n        \"description\": \"\"\n      }\n    },\n    {\n      \"column\": \"XRM\",\n      \"properties\": {\n        \"dtype\": \"number\",\n        \"std\": 1,\n        \"min\": 0,\n        \"max\": 8,\n        \"num_unique_values\": 9,\n        \"samples\": [\n          7,\n          1,\n          5\n        ],\n        \"semantic_type\": \"\",\n        \"description\": \"\"\n      }\n    },\n    {\n      \"column\": \"XRX\",\n      \"properties\": {\n        \"dtype\": \"number\",\n        \"std\": 0,\n        \"min\": 0,\n        \"max\": 1,\n        \"num_unique_values\": 2,\n        \"samples\": [\n          1,\n          0\n        ],\n        \"semantic_type\": \"\",\n        \"description\": \"\"\n      }\n    },\n    {\n      \"column\": \"XRS\",\n      \"properties\": {\n        \"dtype\": \"number\",\n        \"std\": 14,\n        \"min\": 0,\n        \"max\": 99,\n        \"num_unique_values\": 52,\n        \"samples\": [\n          5,\n          96\n        ],\n        \"semantic_type\": \"\",\n        \"description\": \"\"\n      }\n    },\n    {\n      \"column\": \"kp 1\",\n      \"properties\": {\n        \"dtype\": \"number\",\n        \"std\": 1.290098749113934,\n        \"min\": 0.0,\n        \"max\": 6.667,\n        \"num_unique_values\": 19,\n        \"samples\": [\n          0.0,\n          1.0\n        ],\n        \"semantic_type\": \"\",\n        \"description\": \"\"\n      }\n    },\n    {\n      \"column\": \"kp 2\",\n      \"properties\": {\n        \"dtype\": \"number\",\n        \"std\": 1.3520891299163809,\n        \"min\": 0.0,\n        \"max\": 8.0,\n        \"num_unique_values\": 22,\n        \"samples\": [\n          2.0,\n          4.0\n        ],\n        \"semantic_type\": \"\",\n        \"description\": \"\"\n      }\n    },\n    {\n      \"column\": \"kp 3\",\n      \"properties\": {\n        \"dtype\": \"number\",\n        \"std\": 1.2092233354445396,\n        \"min\": 0.0,\n        \"max\": 7.0,\n        \"num_unique_values\": 18,\n        \"samples\": [\n          2.667,\n          0.333\n        ],\n        \"semantic_type\": \"\",\n        \"description\": \"\"\n      }\n    },\n    {\n      \"column\": \"kp 4\",\n      \"properties\": {\n        \"dtype\": \"number\",\n        \"std\": 1.1388430394389688,\n        \"min\": 0.0,\n        \"max\": 5.667,\n        \"num_unique_values\": 17,\n        \"samples\": [\n          2.0,\n          0.333\n        ],\n        \"semantic_type\": \"\",\n        \"description\": \"\"\n      }\n    },\n    {\n      \"column\": \"kp 5\",\n      \"properties\": {\n        \"dtype\": \"number\",\n        \"std\": 1.1694394657509717,\n        \"min\": 0.0,\n        \"max\": 7.0,\n        \"num_unique_values\": 20,\n        \"samples\": [\n          1.0,\n          4.667\n        ],\n        \"semantic_type\": \"\",\n        \"description\": \"\"\n      }\n    },\n    {\n      \"column\": \"kp 6\",\n      \"properties\": {\n        \"dtype\": \"number\",\n        \"std\": 1.219975790593649,\n        \"min\": 0.0,\n        \"max\": 7.333,\n        \"num_unique_values\": 20,\n        \"samples\": [\n          3.333,\n          6.0\n        ],\n        \"semantic_type\": \"\",\n        \"description\": \"\"\n      }\n    },\n    {\n      \"column\": \"kp 7\",\n      \"properties\": {\n        \"dtype\": \"number\",\n        \"std\": 1.2149464756542203,\n        \"min\": 0.0,\n        \"max\": 6.667,\n        \"num_unique_values\": 19,\n        \"samples\": [\n          2.333,\n          4.333\n        ],\n        \"semantic_type\": \"\",\n        \"description\": \"\"\n      }\n    },\n    {\n      \"column\": \"kp 8\",\n      \"properties\": {\n        \"dtype\": \"number\",\n        \"std\": 1.2256776689070992,\n        \"min\": 0.0,\n        \"max\": 6.333,\n        \"num_unique_values\": 19,\n        \"samples\": [\n          1.667,\n          3.0\n        ],\n        \"semantic_type\": \"\",\n        \"description\": \"\"\n      }\n    },\n    {\n      \"column\": \"kp res\",\n      \"properties\": {\n        \"dtype\": \"number\",\n        \"std\": 0.9622366953951074,\n        \"min\": 0.0,\n        \"max\": 4.91675,\n        \"num_unique_values\": 224,\n        \"samples\": [\n          1.0415,\n          1.916625\n        ],\n        \"semantic_type\": \"\",\n        \"description\": \"\"\n      }\n    }\n  ]\n}"
            }
          },
          "metadata": {},
          "execution_count": 213
        }
      ]
    },
    {
      "cell_type": "markdown",
      "metadata": {
        "id": "WeZmTMHGUUZV"
      },
      "source": [
        "Визуализируем важность признаков, какие из них оказали наибольшее влияние:"
      ]
    },
    {
      "cell_type": "code",
      "execution_count": null,
      "metadata": {
        "id": "bjyg1MQeUdG0"
      },
      "outputs": [],
      "source": [
        "import matplotlib.pyplot as plt"
      ]
    },
    {
      "cell_type": "code",
      "execution_count": null,
      "metadata": {
        "colab": {
          "base_uri": "https://localhost:8080/",
          "height": 481
        },
        "id": "Jhy-SpJJUUu7",
        "outputId": "d7b4ea96-d216-466b-d5f7-f357e1085f6e"
      },
      "outputs": [
        {
          "output_type": "display_data",
          "data": {
            "text/plain": [
              "<Figure size 640x480 with 1 Axes>"
            ],
            "image/png": "[encoded data removed]"
          },
          "metadata": {}
        }
      ],
      "source": [
        "importances = model.feature_importances_\n",
        "features = X.columns\n",
        "indices = np.argsort(importances)[::-1]\n",
        "\n",
        "plt.figure()\n",
        "plt.title('Важность признаков')\n",
        "plt.bar(range(X.shape[1]), importances[indices], align='center')\n",
        "plt.xticks(range(X.shape[1]), features[indices], rotation=90)\n",
        "plt.xlim([-1, X.shape[1]])\n",
        "plt.show()\n",
        "\n"
      ]
    },
    {
      "cell_type": "markdown",
      "metadata": {
        "id": "t3n8GXH5Wz4y"
      },
      "source": [
        "Пояснение: Если по оси ординат значение 0.08, это означает, что самый важный признак вносит 8% вклада в принятие решений модели."
      ]
    },
    {
      "cell_type": "code",
      "source": [
        "data"
      ],
      "metadata": {
        "colab": {
          "base_uri": "https://localhost:8080/",
          "height": 439
        },
        "id": "8_HuJ-_YkO2_",
        "outputId": "a9692e45-1bbb-45ec-83f2-5933c3884d14"
      },
      "execution_count": null,
      "outputs": [
        {
          "output_type": "execute_result",
          "data": {
            "text/plain": [
              "      ДАТА  ISN  F107  NSN  NSA  XRBG  XRC  XRM  XRX  XRS  ...   kp 2   kp 3  \\\n",
              "0        0    6    72    0    0   8.0    0    0    0    0  ...  0.000  0.000   \n",
              "1        1   12    72   13   20   8.3    0    0    0    0  ...  0.000  0.333   \n",
              "2        2   13    71   13   20   8.6    0    0    0    0  ...  1.000  2.667   \n",
              "3        3   12    72   11   10   8.5    0    0    0    0  ...  0.667  0.667   \n",
              "4        4   14    72   11   10   8.5    0    0    0    0  ...  1.000  1.667   \n",
              "...    ...  ...   ...  ...  ...   ...  ...  ...  ...  ...  ...    ...    ...   \n",
              "1456  1456   79   149   78  520   0.0    4    0    0    4  ...  1.667  1.000   \n",
              "1457  1457   97   147   83  430   0.0    4    0    0    4  ...  0.000  0.667   \n",
              "1458  1458   87   143   92  582   0.0   11    0    0   11  ...  1.000  1.333   \n",
              "1459  1459   71   140   48  470   0.0    9    0    0    9  ...  2.333  1.333   \n",
              "1460  1460   54   146   55  380   0.0   10    1    1   40  ...  0.667  0.333   \n",
              "\n",
              "       kp 4   kp 5   kp 6   kp 7   kp 8    kp res  auror_res  XRBG_category  \n",
              "0     0.667  0.667  1.333  1.000  0.667  0.583375          0        Высокий  \n",
              "1     0.333  0.333  0.667  1.000  1.000  0.458250          0  Очень высокий  \n",
              "2     2.000  1.000  0.667  0.333  1.333  1.208375          0  Очень высокий  \n",
              "3     0.667  1.000  2.000  2.333  2.000  1.375125          0  Очень высокий  \n",
              "4     1.333  2.000  2.000  3.333  2.667  1.958375          0  Очень высокий  \n",
              "...     ...    ...    ...    ...    ...       ...        ...            ...  \n",
              "1456  1.333  0.333  0.667  0.667  0.333  1.000000          0   Очень низкий  \n",
              "1457  0.333  0.333  0.333  0.000  1.667  0.416625          0   Очень низкий  \n",
              "1458  2.000  1.667  0.667  1.667  2.333  1.500000          0   Очень низкий  \n",
              "1459  0.333  0.667  1.000  1.000  0.000  0.958250          0   Очень низкий  \n",
              "1460  0.333  0.333  0.667  1.000  1.333  0.583250          1   Очень низкий  \n",
              "\n",
              "[1461 rows x 21 columns]"
            ],
            "text/html": [
              "\n",
              "  <div id=\"df-fba2a841-bfdf-4d26-84e0-06d44878750d\" class=\"colab-df-container\">\n",
              "    <div>\n",
              "<style scoped>\n",
              "    .dataframe tbody tr th:only-of-type {\n",
              "        vertical-align: middle;\n",
              "    }\n",
              "\n",
              "    .dataframe tbody tr th {\n",
              "        vertical-align: top;\n",
              "    }\n",
              "\n",
              "    .dataframe thead th {\n",
              "        text-align: right;\n",
              "    }\n",
              "</style>\n",
              "<table border=\"1\" class=\"dataframe\">\n",
              "  <thead>\n",
              "    <tr style=\"text-align: right;\">\n",
              "      <th></th>\n",
              "      <th>ДАТА</th>\n",
              "      <th>ISN</th>\n",
              "      <th>F107</th>\n",
              "      <th>NSN</th>\n",
              "      <th>NSA</th>\n",
              "      <th>XRBG</th>\n",
              "      <th>XRC</th>\n",
              "      <th>XRM</th>\n",
              "      <th>XRX</th>\n",
              "      <th>XRS</th>\n",
              "      <th>...</th>\n",
              "      <th>kp 2</th>\n",
              "      <th>kp 3</th>\n",
              "      <th>kp 4</th>\n",
              "      <th>kp 5</th>\n",
              "      <th>kp 6</th>\n",
              "      <th>kp 7</th>\n",
              "      <th>kp 8</th>\n",
              "      <th>kp res</th>\n",
              "      <th>auror_res</th>\n",
              "      <th>XRBG_category</th>\n",
              "    </tr>\n",
              "  </thead>\n",
              "  <tbody>\n",
              "    <tr>\n",
              "      <th>0</th>\n",
              "      <td>0</td>\n",
              "      <td>6</td>\n",
              "      <td>72</td>\n",
              "      <td>0</td>\n",
              "      <td>0</td>\n",
              "      <td>8.0</td>\n",
              "      <td>0</td>\n",
              "      <td>0</td>\n",
              "      <td>0</td>\n",
              "      <td>0</td>\n",
              "      <td>...</td>\n",
              "      <td>0.000</td>\n",
              "      <td>0.000</td>\n",
              "      <td>0.667</td>\n",
              "      <td>0.667</td>\n",
              "      <td>1.333</td>\n",
              "      <td>1.000</td>\n",
              "      <td>0.667</td>\n",
              "      <td>0.583375</td>\n",
              "      <td>0</td>\n",
              "      <td>Высокий</td>\n",
              "    </tr>\n",
              "    <tr>\n",
              "      <th>1</th>\n",
              "      <td>1</td>\n",
              "      <td>12</td>\n",
              "      <td>72</td>\n",
              "      <td>13</td>\n",
              "      <td>20</td>\n",
              "      <td>8.3</td>\n",
              "      <td>0</td>\n",
              "      <td>0</td>\n",
              "      <td>0</td>\n",
              "      <td>0</td>\n",
              "      <td>...</td>\n",
              "      <td>0.000</td>\n",
              "      <td>0.333</td>\n",
              "      <td>0.333</td>\n",
              "      <td>0.333</td>\n",
              "      <td>0.667</td>\n",
              "      <td>1.000</td>\n",
              "      <td>1.000</td>\n",
              "      <td>0.458250</td>\n",
              "      <td>0</td>\n",
              "      <td>Очень высокий</td>\n",
              "    </tr>\n",
              "    <tr>\n",
              "      <th>2</th>\n",
              "      <td>2</td>\n",
              "      <td>13</td>\n",
              "      <td>71</td>\n",
              "      <td>13</td>\n",
              "      <td>20</td>\n",
              "      <td>8.6</td>\n",
              "      <td>0</td>\n",
              "      <td>0</td>\n",
              "      <td>0</td>\n",
              "      <td>0</td>\n",
              "      <td>...</td>\n",
              "      <td>1.000</td>\n",
              "      <td>2.667</td>\n",
              "      <td>2.000</td>\n",
              "      <td>1.000</td>\n",
              "      <td>0.667</td>\n",
              "      <td>0.333</td>\n",
              "      <td>1.333</td>\n",
              "      <td>1.208375</td>\n",
              "      <td>0</td>\n",
              "      <td>Очень высокий</td>\n",
              "    </tr>\n",
              "    <tr>\n",
              "      <th>3</th>\n",
              "      <td>3</td>\n",
              "      <td>12</td>\n",
              "      <td>72</td>\n",
              "      <td>11</td>\n",
              "      <td>10</td>\n",
              "      <td>8.5</td>\n",
              "      <td>0</td>\n",
              "      <td>0</td>\n",
              "      <td>0</td>\n",
              "      <td>0</td>\n",
              "      <td>...</td>\n",
              "      <td>0.667</td>\n",
              "      <td>0.667</td>\n",
              "      <td>0.667</td>\n",
              "      <td>1.000</td>\n",
              "      <td>2.000</td>\n",
              "      <td>2.333</td>\n",
              "      <td>2.000</td>\n",
              "      <td>1.375125</td>\n",
              "      <td>0</td>\n",
              "      <td>Очень высокий</td>\n",
              "    </tr>\n",
              "    <tr>\n",
              "      <th>4</th>\n",
              "      <td>4</td>\n",
              "      <td>14</td>\n",
              "      <td>72</td>\n",
              "      <td>11</td>\n",
              "      <td>10</td>\n",
              "      <td>8.5</td>\n",
              "      <td>0</td>\n",
              "      <td>0</td>\n",
              "      <td>0</td>\n",
              "      <td>0</td>\n",
              "      <td>...</td>\n",
              "      <td>1.000</td>\n",
              "      <td>1.667</td>\n",
              "      <td>1.333</td>\n",
              "      <td>2.000</td>\n",
              "      <td>2.000</td>\n",
              "      <td>3.333</td>\n",
              "      <td>2.667</td>\n",
              "      <td>1.958375</td>\n",
              "      <td>0</td>\n",
              "      <td>Очень высокий</td>\n",
              "    </tr>\n",
              "    <tr>\n",
              "      <th>...</th>\n",
              "      <td>...</td>\n",
              "      <td>...</td>\n",
              "      <td>...</td>\n",
              "      <td>...</td>\n",
              "      <td>...</td>\n",
              "      <td>...</td>\n",
              "      <td>...</td>\n",
              "      <td>...</td>\n",
              "      <td>...</td>\n",
              "      <td>...</td>\n",
              "      <td>...</td>\n",
              "      <td>...</td>\n",
              "      <td>...</td>\n",
              "      <td>...</td>\n",
              "      <td>...</td>\n",
              "      <td>...</td>\n",
              "      <td>...</td>\n",
              "      <td>...</td>\n",
              "      <td>...</td>\n",
              "      <td>...</td>\n",
              "      <td>...</td>\n",
              "    </tr>\n",
              "    <tr>\n",
              "      <th>1456</th>\n",
              "      <td>1456</td>\n",
              "      <td>79</td>\n",
              "      <td>149</td>\n",
              "      <td>78</td>\n",
              "      <td>520</td>\n",
              "      <td>0.0</td>\n",
              "      <td>4</td>\n",
              "      <td>0</td>\n",
              "      <td>0</td>\n",
              "      <td>4</td>\n",
              "      <td>...</td>\n",
              "      <td>1.667</td>\n",
              "      <td>1.000</td>\n",
              "      <td>1.333</td>\n",
              "      <td>0.333</td>\n",
              "      <td>0.667</td>\n",
              "      <td>0.667</td>\n",
              "      <td>0.333</td>\n",
              "      <td>1.000000</td>\n",
              "      <td>0</td>\n",
              "      <td>Очень низкий</td>\n",
              "    </tr>\n",
              "    <tr>\n",
              "      <th>1457</th>\n",
              "      <td>1457</td>\n",
              "      <td>97</td>\n",
              "      <td>147</td>\n",
              "      <td>83</td>\n",
              "      <td>430</td>\n",
              "      <td>0.0</td>\n",
              "      <td>4</td>\n",
              "      <td>0</td>\n",
              "      <td>0</td>\n",
              "      <td>4</td>\n",
              "      <td>...</td>\n",
              "      <td>0.000</td>\n",
              "      <td>0.667</td>\n",
              "      <td>0.333</td>\n",
              "      <td>0.333</td>\n",
              "      <td>0.333</td>\n",
              "      <td>0.000</td>\n",
              "      <td>1.667</td>\n",
              "      <td>0.416625</td>\n",
              "      <td>0</td>\n",
              "      <td>Очень низкий</td>\n",
              "    </tr>\n",
              "    <tr>\n",
              "      <th>1458</th>\n",
              "      <td>1458</td>\n",
              "      <td>87</td>\n",
              "      <td>143</td>\n",
              "      <td>92</td>\n",
              "      <td>582</td>\n",
              "      <td>0.0</td>\n",
              "      <td>11</td>\n",
              "      <td>0</td>\n",
              "      <td>0</td>\n",
              "      <td>11</td>\n",
              "      <td>...</td>\n",
              "      <td>1.000</td>\n",
              "      <td>1.333</td>\n",
              "      <td>2.000</td>\n",
              "      <td>1.667</td>\n",
              "      <td>0.667</td>\n",
              "      <td>1.667</td>\n",
              "      <td>2.333</td>\n",
              "      <td>1.500000</td>\n",
              "      <td>0</td>\n",
              "      <td>Очень низкий</td>\n",
              "    </tr>\n",
              "    <tr>\n",
              "      <th>1459</th>\n",
              "      <td>1459</td>\n",
              "      <td>71</td>\n",
              "      <td>140</td>\n",
              "      <td>48</td>\n",
              "      <td>470</td>\n",
              "      <td>0.0</td>\n",
              "      <td>9</td>\n",
              "      <td>0</td>\n",
              "      <td>0</td>\n",
              "      <td>9</td>\n",
              "      <td>...</td>\n",
              "      <td>2.333</td>\n",
              "      <td>1.333</td>\n",
              "      <td>0.333</td>\n",
              "      <td>0.667</td>\n",
              "      <td>1.000</td>\n",
              "      <td>1.000</td>\n",
              "      <td>0.000</td>\n",
              "      <td>0.958250</td>\n",
              "      <td>0</td>\n",
              "      <td>Очень низкий</td>\n",
              "    </tr>\n",
              "    <tr>\n",
              "      <th>1460</th>\n",
              "      <td>1460</td>\n",
              "      <td>54</td>\n",
              "      <td>146</td>\n",
              "      <td>55</td>\n",
              "      <td>380</td>\n",
              "      <td>0.0</td>\n",
              "      <td>10</td>\n",
              "      <td>1</td>\n",
              "      <td>1</td>\n",
              "      <td>40</td>\n",
              "      <td>...</td>\n",
              "      <td>0.667</td>\n",
              "      <td>0.333</td>\n",
              "      <td>0.333</td>\n",
              "      <td>0.333</td>\n",
              "      <td>0.667</td>\n",
              "      <td>1.000</td>\n",
              "      <td>1.333</td>\n",
              "      <td>0.583250</td>\n",
              "      <td>1</td>\n",
              "      <td>Очень низкий</td>\n",
              "    </tr>\n",
              "  </tbody>\n",
              "</table>\n",
              "<p>1461 rows × 21 columns</p>\n",
              "</div>\n",
              "    <div class=\"colab-df-buttons\">\n",
              "\n",
              "  <div class=\"colab-df-container\">\n",
              "    <button class=\"colab-df-convert\" onclick=\"convertToInteractive('df-fba2a841-bfdf-4d26-84e0-06d44878750d')\"\n",
              "            title=\"Convert this dataframe to an interactive table.\"\n",
              "            style=\"display:none;\">\n",
              "\n",
              "  <svg xmlns=\"http://www.w3.org/2000/svg\" height=\"24px\" viewBox=\"0 -960 960 960\">\n",
              "    <path d=\"M120-120v-720h720v720H120Zm60-500h600v-160H180v160Zm220 220h160v-160H400v160Zm0 220h160v-160H400v160ZM180-400h160v-160H180v160Zm440 0h160v-160H620v160ZM180-180h160v-160H180v160Zm440 0h160v-160H620v160Z\"/>\n",
              "  </svg>\n",
              "    </button>\n",
              "\n",
              "  <style>\n",
              "    .colab-df-container {\n",
              "      display:flex;\n",
              "      gap: 12px;\n",
              "    }\n",
              "\n",
              "    .colab-df-convert {\n",
              "      background-color: #E8F0FE;\n",
              "      border: none;\n",
              "      border-radius: 50%;\n",
              "      cursor: pointer;\n",
              "      display: none;\n",
              "      fill: #1967D2;\n",
              "      height: 32px;\n",
              "      padding: 0 0 0 0;\n",
              "      width: 32px;\n",
              "    }\n",
              "\n",
              "    .colab-df-convert:hover {\n",
              "      background-color: #E2EBFA;\n",
              "      box-shadow: 0px 1px 2px rgba(60, 64, 67, 0.3), 0px 1px 3px 1px rgba(60, 64, 67, 0.15);\n",
              "      fill: #174EA6;\n",
              "    }\n",
              "\n",
              "    .colab-df-buttons div {\n",
              "      margin-bottom: 4px;\n",
              "    }\n",
              "\n",
              "    [theme=dark] .colab-df-convert {\n",
              "      background-color: #3B4455;\n",
              "      fill: #D2E3FC;\n",
              "    }\n",
              "\n",
              "    [theme=dark] .colab-df-convert:hover {\n",
              "      background-color: #434B5C;\n",
              "      box-shadow: 0px 1px 3px 1px rgba(0, 0, 0, 0.15);\n",
              "      filter: drop-shadow(0px 1px 2px rgba(0, 0, 0, 0.3));\n",
              "      fill: #FFFFFF;\n",
              "    }\n",
              "  </style>\n",
              "\n",
              "    <script>\n",
              "      const buttonEl =\n",
              "        document.querySelector('#df-fba2a841-bfdf-4d26-84e0-06d44878750d button.colab-df-convert');\n",
              "      buttonEl.style.display =\n",
              "        google.colab.kernel.accessAllowed ? 'block' : 'none';\n",
              "\n",
              "      async function convertToInteractive(key) {\n",
              "        const element = document.querySelector('#df-fba2a841-bfdf-4d26-84e0-06d44878750d');\n",
              "        const dataTable =\n",
              "          await google.colab.kernel.invokeFunction('convertToInteractive',\n",
              "                                                    [key], {});\n",
              "        if (!dataTable) return;\n",
              "\n",
              "        const docLinkHtml = 'Like what you see? Visit the ' +\n",
              "          '<a target=\"_blank\" href=https://colab.research.google.com/notebooks/data_table.ipynb>data table notebook</a>'\n",
              "          + ' to learn more about interactive tables.';\n",
              "        element.innerHTML = '';\n",
              "        dataTable['output_type'] = 'display_data';\n",
              "        await google.colab.output.renderOutput(dataTable, element);\n",
              "        const docLink = document.createElement('div');\n",
              "        docLink.innerHTML = docLinkHtml;\n",
              "        element.appendChild(docLink);\n",
              "      }\n",
              "    </script>\n",
              "  </div>\n",
              "\n",
              "\n",
              "<div id=\"df-62416d42-e0ac-49b1-ae91-4fad367adf17\">\n",
              "  <button class=\"colab-df-quickchart\" onclick=\"quickchart('df-62416d42-e0ac-49b1-ae91-4fad367adf17')\"\n",
              "            title=\"Suggest charts\"\n",
              "            style=\"display:none;\">\n",
              "\n",
              "<svg xmlns=\"http://www.w3.org/2000/svg\" height=\"24px\"viewBox=\"0 0 24 24\"\n",
              "     width=\"24px\">\n",
              "    <g>\n",
              "        <path d=\"M19 3H5c-1.1 0-2 .9-2 2v14c0 1.1.9 2 2 2h14c1.1 0 2-.9 2-2V5c0-1.1-.9-2-2-2zM9 17H7v-7h2v7zm4 0h-2V7h2v10zm4 0h-2v-4h2v4z\"/>\n",
              "    </g>\n",
              "</svg>\n",
              "  </button>\n",
              "\n",
              "<style>\n",
              "  .colab-df-quickchart {\n",
              "      --bg-color: #E8F0FE;\n",
              "      --fill-color: #1967D2;\n",
              "      --hover-bg-color: #E2EBFA;\n",
              "      --hover-fill-color: #174EA6;\n",
              "      --disabled-fill-color: #AAA;\n",
              "      --disabled-bg-color: #DDD;\n",
              "  }\n",
              "\n",
              "  [theme=dark] .colab-df-quickchart {\n",
              "      --bg-color: #3B4455;\n",
              "      --fill-color: #D2E3FC;\n",
              "      --hover-bg-color: #434B5C;\n",
              "      --hover-fill-color: #FFFFFF;\n",
              "      --disabled-bg-color: #3B4455;\n",
              "      --disabled-fill-color: #666;\n",
              "  }\n",
              "\n",
              "  .colab-df-quickchart {\n",
              "    background-color: var(--bg-color);\n",
              "    border: none;\n",
              "    border-radius: 50%;\n",
              "    cursor: pointer;\n",
              "    display: none;\n",
              "    fill: var(--fill-color);\n",
              "    height: 32px;\n",
              "    padding: 0;\n",
              "    width: 32px;\n",
              "  }\n",
              "\n",
              "  .colab-df-quickchart:hover {\n",
              "    background-color: var(--hover-bg-color);\n",
              "    box-shadow: 0 1px 2px rgba(60, 64, 67, 0.3), 0 1px 3px 1px rgba(60, 64, 67, 0.15);\n",
              "    fill: var(--button-hover-fill-color);\n",
              "  }\n",
              "\n",
              "  .colab-df-quickchart-complete:disabled,\n",
              "  .colab-df-quickchart-complete:disabled:hover {\n",
              "    background-color: var(--disabled-bg-color);\n",
              "    fill: var(--disabled-fill-color);\n",
              "    box-shadow: none;\n",
              "  }\n",
              "\n",
              "  .colab-df-spinner {\n",
              "    border: 2px solid var(--fill-color);\n",
              "    border-color: transparent;\n",
              "    border-bottom-color: var(--fill-color);\n",
              "    animation:\n",
              "      spin 1s steps(1) infinite;\n",
              "  }\n",
              "\n",
              "  @keyframes spin {\n",
              "    0% {\n",
              "      border-color: transparent;\n",
              "      border-bottom-color: var(--fill-color);\n",
              "      border-left-color: var(--fill-color);\n",
              "    }\n",
              "    20% {\n",
              "      border-color: transparent;\n",
              "      border-left-color: var(--fill-color);\n",
              "      border-top-color: var(--fill-color);\n",
              "    }\n",
              "    30% {\n",
              "      border-color: transparent;\n",
              "      border-left-color: var(--fill-color);\n",
              "      border-top-color: var(--fill-color);\n",
              "      border-right-color: var(--fill-color);\n",
              "    }\n",
              "    40% {\n",
              "      border-color: transparent;\n",
              "      border-right-color: var(--fill-color);\n",
              "      border-top-color: var(--fill-color);\n",
              "    }\n",
              "    60% {\n",
              "      border-color: transparent;\n",
              "      border-right-color: var(--fill-color);\n",
              "    }\n",
              "    80% {\n",
              "      border-color: transparent;\n",
              "      border-right-color: var(--fill-color);\n",
              "      border-bottom-color: var(--fill-color);\n",
              "    }\n",
              "    90% {\n",
              "      border-color: transparent;\n",
              "      border-bottom-color: var(--fill-color);\n",
              "    }\n",
              "  }\n",
              "</style>\n",
              "\n",
              "  <script>\n",
              "    async function quickchart(key) {\n",
              "      const quickchartButtonEl =\n",
              "        document.querySelector('#' + key + ' button');\n",
              "      quickchartButtonEl.disabled = true;  // To prevent multiple clicks.\n",
              "      quickchartButtonEl.classList.add('colab-df-spinner');\n",
              "      try {\n",
              "        const charts = await google.colab.kernel.invokeFunction(\n",
              "            'suggestCharts', [key], {});\n",
              "      } catch (error) {\n",
              "        console.error('Error during call to suggestCharts:', error);\n",
              "      }\n",
              "      quickchartButtonEl.classList.remove('colab-df-spinner');\n",
              "      quickchartButtonEl.classList.add('colab-df-quickchart-complete');\n",
              "    }\n",
              "    (() => {\n",
              "      let quickchartButtonEl =\n",
              "        document.querySelector('#df-62416d42-e0ac-49b1-ae91-4fad367adf17 button');\n",
              "      quickchartButtonEl.style.display =\n",
              "        google.colab.kernel.accessAllowed ? 'block' : 'none';\n",
              "    })();\n",
              "  </script>\n",
              "</div>\n",
              "    </div>\n",
              "  </div>\n"
            ],
            "application/vnd.google.colaboratory.intrinsic+json": {
              "type": "dataframe",
              "variable_name": "data"
            }
          },
          "metadata": {},
          "execution_count": 216
        }
      ]
    },
    {
      "cell_type": "markdown",
      "metadata": {
        "id": "jNtgKkigW6XV"
      },
      "source": [
        "Теперь сравним насколько точно модель предсказала появление аурор по месяцам по сравнению с фактическим кол-вом:"
      ]
    },
    {
      "cell_type": "code",
      "source": [
        "data = data[data['ДАТА'].isin(X_test['ДАТА'].values)]"
      ],
      "metadata": {
        "id": "VdehJdeHkd4a"
      },
      "execution_count": null,
      "outputs": []
    },
    {
      "cell_type": "code",
      "source": [
        "data.shape, X_test.shape"
      ],
      "metadata": {
        "colab": {
          "base_uri": "https://localhost:8080/"
        },
        "id": "8jPtJf1jkxlV",
        "outputId": "55fcdfb9-e4f6-4028-b035-3cc2a7aa15d3"
      },
      "execution_count": null,
      "outputs": [
        {
          "output_type": "execute_result",
          "data": {
            "text/plain": [
              "((439, 21), (439, 19))"
            ]
          },
          "metadata": {},
          "execution_count": 218
        }
      ]
    },
    {
      "cell_type": "code",
      "execution_count": null,
      "metadata": {
        "colab": {
          "base_uri": "https://localhost:8080/",
          "height": 1000
        },
        "id": "NTQQWIVMIQct",
        "outputId": "25ae24b3-c634-4fb4-8a91-2186d8685bdf"
      },
      "outputs": [
        {
          "output_type": "stream",
          "name": "stderr",
          "text": [
            "<ipython-input-219-cda2c8bfc26e>:5: SettingWithCopyWarning: \n",
            "A value is trying to be set on a copy of a slice from a DataFrame.\n",
            "Try using .loc[row_indexer,col_indexer] = value instead\n",
            "\n",
            "See the caveats in the documentation: https://pandas.pydata.org/pandas-docs/stable/user_guide/indexing.html#returning-a-view-versus-a-copy\n",
            "  data['Дата'] = pd.Timestamp(\"2020-01-01\") + pd.to_timedelta(data['ДАТА'], unit='D')\n",
            "<ipython-input-219-cda2c8bfc26e>:8: SettingWithCopyWarning: \n",
            "A value is trying to be set on a copy of a slice from a DataFrame.\n",
            "Try using .loc[row_indexer,col_indexer] = value instead\n",
            "\n",
            "See the caveats in the documentation: https://pandas.pydata.org/pandas-docs/stable/user_guide/indexing.html#returning-a-view-versus-a-copy\n",
            "  data['Месяц'] = data['Дата'].dt.month\n",
            "<ipython-input-219-cda2c8bfc26e>:9: SettingWithCopyWarning: \n",
            "A value is trying to be set on a copy of a slice from a DataFrame.\n",
            "Try using .loc[row_indexer,col_indexer] = value instead\n",
            "\n",
            "See the caveats in the documentation: https://pandas.pydata.org/pandas-docs/stable/user_guide/indexing.html#returning-a-view-versus-a-copy\n",
            "  data['Сезон'] = data['Дата'].dt.month % 12 // 3 + 1\n",
            "<ipython-input-219-cda2c8bfc26e>:10: SettingWithCopyWarning: \n",
            "A value is trying to be set on a copy of a slice from a DataFrame.\n",
            "Try using .loc[row_indexer,col_indexer] = value instead\n",
            "\n",
            "See the caveats in the documentation: https://pandas.pydata.org/pandas-docs/stable/user_guide/indexing.html#returning-a-view-versus-a-copy\n",
            "  data['Сезон'] = data['Сезон'].map({1: 'Весна', 2: 'Лето', 3: 'Осень', 4: 'Зима'})\n",
            "<ipython-input-219-cda2c8bfc26e>:13: SettingWithCopyWarning: \n",
            "A value is trying to be set on a copy of a slice from a DataFrame.\n",
            "Try using .loc[row_indexer,col_indexer] = value instead\n",
            "\n",
            "See the caveats in the documentation: https://pandas.pydata.org/pandas-docs/stable/user_guide/indexing.html#returning-a-view-versus-a-copy\n",
            "  data['predicted_auror_res'] = model.predict(X_test)\n"
          ]
        },
        {
          "output_type": "display_data",
          "data": {
            "text/plain": [
              "<Figure size 1300x600 with 2 Axes>"
            ],
            "image/png": "[encoded data removed]"
          },
          "metadata": {}
        }
      ],
      "source": [
        "import matplotlib.pyplot as plt\n",
        "import pandas as pd\n",
        "\n",
        "# Преобразуем количество дней обратно в формат даты\n",
        "data['Дата'] = pd.Timestamp(\"2020-01-01\") + pd.to_timedelta(data['ДАТА'], unit='D')\n",
        "\n",
        "# Извлекаем месяц и сезон из вновь созданного столбца\n",
        "data['Месяц'] = data['Дата'].dt.month\n",
        "data['Сезон'] = data['Дата'].dt.month % 12 // 3 + 1\n",
        "data['Сезон'] = data['Сезон'].map({1: 'Весна', 2: 'Лето', 3: 'Осень', 4: 'Зима'})\n",
        "\n",
        "# Получаем предсказания модели\n",
        "data['predicted_auror_res'] = model.predict(X_test)\n",
        "\n",
        "# Сохраняем предсказания в отдельный файл для последующего использования\n",
        "data.to_csv('predictions.csv', index=False)\n",
        "loaded_data = pd.read_csv('predictions.csv')\n",
        "\n",
        "\n",
        "# Подсчет фактического количества северных сияний по месяцам\n",
        "actual_monthly_counts = data.groupby('Месяц')['auror_res'].sum()\n",
        "\n",
        "\n",
        "# Подсчет предсказанного количества северных сияний по месяцам\n",
        "predicted_monthly_counts = data.groupby('Месяц')['predicted_auror_res'].sum()\n",
        "\n",
        "# Построение графиков\n",
        "plt.figure(figsize=(13, 6))\n",
        "\n",
        "# Гистограмма фактического распределения\n",
        "plt.subplot(1, 2, 1)\n",
        "actual_monthly_counts.plot(kind='bar', color='skyblue')\n",
        "plt.title('Фактическая частота северных сияний по месяцам')\n",
        "plt.xlabel('Месяц')\n",
        "plt.ylabel('Число наблюдений')\n",
        "plt.xticks(ticks=range(0, 12), labels=['Январь', 'Февраль', 'Март', 'Апрель', 'Май', 'Июнь', 'Июль', 'Август', 'Сентябрь', 'Октябрь', 'Ноябрь', 'Декабрь'], rotation=45)\n",
        "\n",
        "# Гистограмма предсказанного распределения\n",
        "plt.subplot(1, 2, 2)\n",
        "predicted_monthly_counts.plot(kind='bar', color='lightgreen')\n",
        "plt.title('Предсказанная частота северных сияний по месяцам')\n",
        "plt.xlabel('Месяц')\n",
        "plt.ylabel('Число предсказанных наблюдений')\n",
        "plt.xticks(ticks=range(0, 12), labels=['Январь', 'Февраль', 'Март', 'Апрель', 'Май', 'Июнь', 'Июль', 'Август', 'Сентябрь', 'Октябрь', 'Ноябрь', 'Декабрь'], rotation=45)\n",
        "\n",
        "# Показать оба графика\n",
        "plt.tight_layout()\n",
        "plt.show()\n"
      ]
    },
    {
      "cell_type": "code",
      "source": [
        "# Чтение файла\n",
        "pred_aur = pd.read_csv('predictions.csv')\n",
        "\n",
        "# Просмотр первых нескольких строк\n",
        "print(pred_aur.head())\n",
        "\n",
        "# Просмотр общей информации о DataFrame\n",
        "print(pred_aur.info())"
      ],
      "metadata": {
        "colab": {
          "base_uri": "https://localhost:8080/"
        },
        "id": "xEs72nk0eTG7",
        "outputId": "e2c527da-361d-4881-b312-052e08484a87"
      },
      "execution_count": null,
      "outputs": [
        {
          "output_type": "stream",
          "name": "stdout",
          "text": [
            "   ДАТА  ISN  F107  NSN  NSA  XRBG  XRC  XRM  XRX  XRS  ...   kp 6   kp 7  \\\n",
            "0     1   12    72   13   20   8.3    0    0    0    0  ...  0.667  1.000   \n",
            "1     4   14    72   11   10   8.5    0    0    0    0  ...  2.000  3.333   \n",
            "2     9    4    73   11   10   9.0    0    0    0    0  ...  1.667  1.333   \n",
            "3    15    0    72    0    0   8.0    0    0    0    0  ...  0.667  0.333   \n",
            "4    16    0    70    0    0   8.0    0    0    0    0  ...  1.333  1.000   \n",
            "\n",
            "    kp 8    kp res  auror_res  XRBG_category        Дата  Месяц  Сезон  \\\n",
            "0  1.000  0.458250          0  Очень высокий  2020-01-02      1  Весна   \n",
            "1  2.667  1.958375          0  Очень высокий  2020-01-05      1  Весна   \n",
            "2  0.667  1.458375          0  Очень высокий  2020-01-10      1  Весна   \n",
            "3  0.333  1.000000          0        Высокий  2020-01-16      1  Весна   \n",
            "4  0.333  0.541500          0        Высокий  2020-01-17      1  Весна   \n",
            "\n",
            "   predicted_auror_res  \n",
            "0                    0  \n",
            "1                    0  \n",
            "2                    0  \n",
            "3                    0  \n",
            "4                    0  \n",
            "\n",
            "[5 rows x 25 columns]\n",
            "<class 'pandas.core.frame.DataFrame'>\n",
            "RangeIndex: 439 entries, 0 to 438\n",
            "Data columns (total 25 columns):\n",
            " #   Column               Non-Null Count  Dtype  \n",
            "---  ------               --------------  -----  \n",
            " 0   ДАТА                 439 non-null    int64  \n",
            " 1   ISN                  439 non-null    int64  \n",
            " 2   F107                 439 non-null    int64  \n",
            " 3   NSN                  439 non-null    int64  \n",
            " 4   NSA                  439 non-null    int64  \n",
            " 5   XRBG                 439 non-null    float64\n",
            " 6   XRC                  439 non-null    int64  \n",
            " 7   XRM                  439 non-null    int64  \n",
            " 8   XRX                  439 non-null    int64  \n",
            " 9   XRS                  439 non-null    int64  \n",
            " 10  kp 1                 439 non-null    float64\n",
            " 11  kp 2                 439 non-null    float64\n",
            " 12  kp 3                 439 non-null    float64\n",
            " 13  kp 4                 439 non-null    float64\n",
            " 14  kp 5                 439 non-null    float64\n",
            " 15  kp 6                 439 non-null    float64\n",
            " 16  kp 7                 439 non-null    float64\n",
            " 17  kp 8                 439 non-null    float64\n",
            " 18  kp res               439 non-null    float64\n",
            " 19  auror_res            439 non-null    int64  \n",
            " 20  XRBG_category        439 non-null    object \n",
            " 21  Дата                 439 non-null    object \n",
            " 22  Месяц                439 non-null    int64  \n",
            " 23  Сезон                439 non-null    object \n",
            " 24  predicted_auror_res  439 non-null    int64  \n",
            "dtypes: float64(10), int64(12), object(3)\n",
            "memory usage: 85.9+ KB\n",
            "None\n"
          ]
        }
      ]
    },
    {
      "cell_type": "code",
      "execution_count": null,
      "metadata": {
        "colab": {
          "base_uri": "https://localhost:8080/"
        },
        "id": "zrtUVfirK98J",
        "outputId": "fb8e569b-49e0-493d-8d87-97d1ab5587ec"
      },
      "outputs": [
        {
          "output_type": "stream",
          "name": "stdout",
          "text": [
            "       Фактические ауроры  Предсказанные ауроры\n",
            "Месяц                                          \n",
            "1                       2                     0\n",
            "2                       2                     0\n",
            "3                       4                     1\n",
            "4                       1                     2\n",
            "5                       5                     2\n",
            "6                       0                     1\n",
            "7                       7                     1\n",
            "8                       3                     2\n",
            "9                       3                     0\n",
            "10                      0                     3\n",
            "11                      3                     1\n",
            "12                      2                     0\n"
          ]
        }
      ],
      "source": [
        "# Выведем в числах для сравнения фактические и предсказанные значения\n",
        "comparison_df = pd.DataFrame({\n",
        "    'Фактические ауроры': actual_monthly_counts,\n",
        "    'Предсказанные ауроры': predicted_monthly_counts\n",
        "})\n",
        "\n",
        "# Выводим таблицу для сравнения\n",
        "print(comparison_df)\n"
      ]
    },
    {
      "cell_type": "code",
      "execution_count": null,
      "metadata": {
        "colab": {
          "base_uri": "https://localhost:8080/"
        },
        "id": "YlcNATRyR2Gm",
        "outputId": "da523c2f-07f1-4af1-8a91-d0fb8929089c"
      },
      "outputs": [
        {
          "output_type": "stream",
          "name": "stdout",
          "text": [
            "Среднеквадратичная ошибка (RMSE): 0.274173016222606\n",
            "Средняя абсолютная ошибка (MAE): 0.07517084282460136\n"
          ]
        }
      ],
      "source": [
        "# # Проверим, что данные числовые\n",
        "# comparison_df['Фактические ауроры'] = pd.to_numeric(comparison_df['Фактические ауроры'], errors='coerce')\n",
        "# comparison_df['Предсказанные ауроры'] = pd.to_numeric(comparison_df['Предсказанные ауроры'], errors='coerce')\n",
        "\n",
        "# # Проверим, есть ли NaN и если есть, удалим\n",
        "# comparison_df = comparison_df.dropna()\n",
        "\n",
        "# # Рассчитываем метрики\n",
        "from sklearn.metrics import mean_squared_error, mean_absolute_error\n",
        "import numpy as np\n",
        "\n",
        "# Рассчитываем RMSE\n",
        "rmse = np.sqrt(mean_squared_error(y_test, prediction))\n",
        "\n",
        "# Рассчитываем MAE\n",
        "mae = mean_absolute_error(y_test, prediction)\n",
        "\n",
        "\n",
        "# Выводим результаты\n",
        "print(f\"Среднеквадратичная ошибка (RMSE): {rmse}\")\n",
        "print(f\"Средняя абсолютная ошибка (MAE): {mae}\")\n"
      ]
    },
    {
      "cell_type": "markdown",
      "source": [
        "Попробуем использовать 3D визуализацию(Folium). Отметим на карте мира места, для которых мы составляли статистику появления аурор: Норвегия (Тромсё), Якутия (Оймякон), и Мурманск."
      ],
      "metadata": {
        "id": "GiDzERUhQMIt"
      }
    },
    {
      "cell_type": "code",
      "source": [
        "import folium\n",
        "\n",
        "# Создаем карту, центрированную на северное полушарие\n",
        "aurora_map = folium.Map(location=[65, 30], zoom_start=4)\n",
        "\n",
        "# Добавляем маркеры для предсказанных сияний\n",
        "folium.Marker([69.6492, 18.9560], popup='Тромсё, Норвегия: предсказано северное сияние').add_to(aurora_map)\n",
        "folium.Marker([63.4641, 142.7737], popup='Оймякон, Якутия: предсказано северное сияние').add_to(aurora_map)\n",
        "folium.Marker([68.9730, 33.0868], popup='Мурманск, Россия: предсказано северное сияние').add_to(aurora_map)\n",
        "\n",
        "# Отображаем карту\n",
        "aurora_map\n",
        "\n"
      ],
      "metadata": {
        "colab": {
          "base_uri": "https://localhost:8080/",
          "height": 694
        },
        "id": "fv1qJgTBQHR3",
        "outputId": "6e76d92b-ad1a-4757-eb88-747419a1fbe2"
      },
      "execution_count": null,
      "outputs": [
        {
          "output_type": "execute_result",
          "data": {
            "text/plain": [
              "<folium.folium.Map at 0x791b26a266e0>"
            ],
            "text/html": [
              "<div style=\"width:100%;\"><div style=\"position:relative;width:100%;height:0;padding-bottom:60%;\"><span style=\"color:#565656\">Make this Notebook Trusted to load map: File -> Trust Notebook</span><iframe srcdoc=\"&lt;!DOCTYPE html&gt;\n",
              "&lt;html&gt;\n",
              "&lt;head&gt;\n",
              "    \n",
              "    &lt;meta http-equiv=&quot;content-type&quot; content=&quot;text/html; charset=UTF-8&quot; /&gt;\n",
              "    \n",
              "        &lt;script&gt;\n",
              "            L_NO_TOUCH = false;\n",
              "            L_DISABLE_3D = false;\n",
              "        &lt;/script&gt;\n",
              "    \n",
              "    &lt;style&gt;html, body {width: 100%;height: 100%;margin: 0;padding: 0;}&lt;/style&gt;\n",
              "    &lt;style&gt;#map {position:absolute;top:0;bottom:0;right:0;left:0;}&lt;/style&gt;\n",
              "    &lt;script src=&quot;https://cdn.jsdelivr.net/npm/leaflet@1.9.3/dist/leaflet.js&quot;&gt;&lt;/script&gt;\n",
              "    &lt;script src=&quot;https://code.jquery.com/jquery-1.12.4.min.js&quot;&gt;&lt;/script&gt;\n",
              "    &lt;script src=&quot;https://cdn.jsdelivr.net/npm/bootstrap@5.2.2/dist/js/bootstrap.bundle.min.js&quot;&gt;&lt;/script&gt;\n",
              "    &lt;script src=&quot;https://cdnjs.cloudflare.com/ajax/libs/Leaflet.awesome-markers/2.0.2/leaflet.awesome-markers.js&quot;&gt;&lt;/script&gt;\n",
              "    &lt;link rel=&quot;stylesheet&quot; href=&quot;https://cdn.jsdelivr.net/npm/leaflet@1.9.3/dist/leaflet.css&quot;/&gt;\n",
              "    &lt;link rel=&quot;stylesheet&quot; href=&quot;https://cdn.jsdelivr.net/npm/bootstrap@5.2.2/dist/css/bootstrap.min.css&quot;/&gt;\n",
              "    &lt;link rel=&quot;stylesheet&quot; href=&quot;https://netdna.bootstrapcdn.com/bootstrap/3.0.0/css/bootstrap.min.css&quot;/&gt;\n",
              "    &lt;link rel=&quot;stylesheet&quot; href=&quot;https://cdn.jsdelivr.net/npm/@fortawesome/fontawesome-free@6.2.0/css/all.min.css&quot;/&gt;\n",
              "    &lt;link rel=&quot;stylesheet&quot; href=&quot;https://cdnjs.cloudflare.com/ajax/libs/Leaflet.awesome-markers/2.0.2/leaflet.awesome-markers.css&quot;/&gt;\n",
              "    &lt;link rel=&quot;stylesheet&quot; href=&quot;https://cdn.jsdelivr.net/gh/python-visualization/folium/folium/templates/leaflet.awesome.rotate.min.css&quot;/&gt;\n",
              "    \n",
              "            &lt;meta name=&quot;viewport&quot; content=&quot;width=device-width,\n",
              "                initial-scale=1.0, maximum-scale=1.0, user-scalable=no&quot; /&gt;\n",
              "            &lt;style&gt;\n",
              "                #map_641d3031643a03489d6499cff73a89cf {\n",
              "                    position: relative;\n",
              "                    width: 100.0%;\n",
              "                    height: 100.0%;\n",
              "                    left: 0.0%;\n",
              "                    top: 0.0%;\n",
              "                }\n",
              "                .leaflet-container { font-size: 1rem; }\n",
              "            &lt;/style&gt;\n",
              "        \n",
              "&lt;/head&gt;\n",
              "&lt;body&gt;\n",
              "    \n",
              "    \n",
              "            &lt;div class=&quot;folium-map&quot; id=&quot;map_641d3031643a03489d6499cff73a89cf&quot; &gt;&lt;/div&gt;\n",
              "        \n",
              "&lt;/body&gt;\n",
              "&lt;script&gt;\n",
              "    \n",
              "    \n",
              "            var map_641d3031643a03489d6499cff73a89cf = L.map(\n",
              "                &quot;map_641d3031643a03489d6499cff73a89cf&quot;,\n",
              "                {\n",
              "                    center: [65.0, 30.0],\n",
              "                    crs: L.CRS.EPSG3857,\n",
              "                    zoom: 4,\n",
              "                    zoomControl: true,\n",
              "                    preferCanvas: false,\n",
              "                }\n",
              "            );\n",
              "\n",
              "            \n",
              "\n",
              "        \n",
              "    \n",
              "            var tile_layer_e979470fe929993c3c64a571adb0cf69 = L.tileLayer(\n",
              "                &quot;https://{s}.tile.openstreetmap.org/{z}/{x}/{y}.png&quot;,\n",
              "                {&quot;attribution&quot;: &quot;Data by \\u0026copy; \\u003ca target=\\&quot;_blank\\&quot; href=\\&quot;http://openstreetmap.org\\&quot;\\u003eOpenStreetMap\\u003c/a\\u003e, under \\u003ca target=\\&quot;_blank\\&quot; href=\\&quot;http://www.openstreetmap.org/copyright\\&quot;\\u003eODbL\\u003c/a\\u003e.&quot;, &quot;detectRetina&quot;: false, &quot;maxNativeZoom&quot;: 18, &quot;maxZoom&quot;: 18, &quot;minZoom&quot;: 0, &quot;noWrap&quot;: false, &quot;opacity&quot;: 1, &quot;subdomains&quot;: &quot;abc&quot;, &quot;tms&quot;: false}\n",
              "            ).addTo(map_641d3031643a03489d6499cff73a89cf);\n",
              "        \n",
              "    \n",
              "            var marker_a36b24002afd4c38d888d6e8f03c543d = L.marker(\n",
              "                [69.6492, 18.956],\n",
              "                {}\n",
              "            ).addTo(map_641d3031643a03489d6499cff73a89cf);\n",
              "        \n",
              "    \n",
              "        var popup_57305edca12332e79225528dc8f359fd = L.popup({&quot;maxWidth&quot;: &quot;100%&quot;});\n",
              "\n",
              "        \n",
              "            \n",
              "                var html_fcd73f0099fb295c8c3bb08e2fcb932d = $(`&lt;div id=&quot;html_fcd73f0099fb295c8c3bb08e2fcb932d&quot; style=&quot;width: 100.0%; height: 100.0%;&quot;&gt;Тромсё, Норвегия: предсказано северное сияние&lt;/div&gt;`)[0];\n",
              "                popup_57305edca12332e79225528dc8f359fd.setContent(html_fcd73f0099fb295c8c3bb08e2fcb932d);\n",
              "            \n",
              "        \n",
              "\n",
              "        marker_a36b24002afd4c38d888d6e8f03c543d.bindPopup(popup_57305edca12332e79225528dc8f359fd)\n",
              "        ;\n",
              "\n",
              "        \n",
              "    \n",
              "    \n",
              "            var marker_18acbbe4b3234e809ed445c3d14cbb63 = L.marker(\n",
              "                [63.4641, 142.7737],\n",
              "                {}\n",
              "            ).addTo(map_641d3031643a03489d6499cff73a89cf);\n",
              "        \n",
              "    \n",
              "        var popup_23dbdb45fc7bf4a6cc84c1d1519ee3b0 = L.popup({&quot;maxWidth&quot;: &quot;100%&quot;});\n",
              "\n",
              "        \n",
              "            \n",
              "                var html_7b628b71ae55f9702139055824a1b20b = $(`&lt;div id=&quot;html_7b628b71ae55f9702139055824a1b20b&quot; style=&quot;width: 100.0%; height: 100.0%;&quot;&gt;Оймякон, Якутия: предсказано северное сияние&lt;/div&gt;`)[0];\n",
              "                popup_23dbdb45fc7bf4a6cc84c1d1519ee3b0.setContent(html_7b628b71ae55f9702139055824a1b20b);\n",
              "            \n",
              "        \n",
              "\n",
              "        marker_18acbbe4b3234e809ed445c3d14cbb63.bindPopup(popup_23dbdb45fc7bf4a6cc84c1d1519ee3b0)\n",
              "        ;\n",
              "\n",
              "        \n",
              "    \n",
              "    \n",
              "            var marker_a688f812221c9b6946190da032cab5b6 = L.marker(\n",
              "                [68.973, 33.0868],\n",
              "                {}\n",
              "            ).addTo(map_641d3031643a03489d6499cff73a89cf);\n",
              "        \n",
              "    \n",
              "        var popup_bbccef642b5e1a532eebc98572922a9b = L.popup({&quot;maxWidth&quot;: &quot;100%&quot;});\n",
              "\n",
              "        \n",
              "            \n",
              "                var html_d35cbef1690a4ded8e93bf1d897f6efd = $(`&lt;div id=&quot;html_d35cbef1690a4ded8e93bf1d897f6efd&quot; style=&quot;width: 100.0%; height: 100.0%;&quot;&gt;Мурманск, Россия: предсказано северное сияние&lt;/div&gt;`)[0];\n",
              "                popup_bbccef642b5e1a532eebc98572922a9b.setContent(html_d35cbef1690a4ded8e93bf1d897f6efd);\n",
              "            \n",
              "        \n",
              "\n",
              "        marker_a688f812221c9b6946190da032cab5b6.bindPopup(popup_bbccef642b5e1a532eebc98572922a9b)\n",
              "        ;\n",
              "\n",
              "        \n",
              "    \n",
              "&lt;/script&gt;\n",
              "&lt;/html&gt;\" style=\"position:absolute;width:100%;height:100%;left:0;top:0;border:none !important;\" allowfullscreen webkitallowfullscreen mozallowfullscreen></iframe></div></div>"
            ]
          },
          "metadata": {},
          "execution_count": 223
        }
      ]
    },
    {
      "cell_type": "code",
      "execution_count": null,
      "metadata": {
        "id": "ycRyXXCMZEhL"
      },
      "outputs": [],
      "source": []
    },
    {
      "cell_type": "markdown",
      "metadata": {
        "id": "ZQBKISvoTg85"
      },
      "source": [
        "### **Пробуем обучить модель, используя градиентный бустинг.**"
      ]
    },
    {
      "cell_type": "code",
      "execution_count": null,
      "metadata": {
        "id": "WWJI9zWJV2LM"
      },
      "outputs": [],
      "source": [
        "# подключаем необходимые библиотеки\n",
        "import pandas as pd\n",
        "from sklearn.model_selection import train_test_split\n",
        "from sklearn.ensemble import GradientBoostingClassifier\n",
        "from sklearn.metrics import accuracy_score, classification_report, confusion_matrix\n"
      ]
    },
    {
      "cell_type": "code",
      "execution_count": null,
      "metadata": {
        "colab": {
          "base_uri": "https://localhost:8080/",
          "height": 51
        },
        "id": "fNX31wqIWnEX",
        "outputId": "4378ad22-58c2-4b34-9abd-d2a201dbc453"
      },
      "outputs": [
        {
          "output_type": "execute_result",
          "data": {
            "text/plain": [
              "GradientBoostingClassifier(random_state=42)"
            ],
            "text/html": [
              "<style>#sk-container-id-17 {color: black;background-color: white;}#sk-container-id-17 pre{padding: 0;}#sk-container-id-17 div.sk-toggleable {background-color: white;}#sk-container-id-17 label.sk-toggleable__label {cursor: pointer;display: block;width: 100%;margin-bottom: 0;padding: 0.3em;box-sizing: border-box;text-align: center;}#sk-container-id-17 label.sk-toggleable__label-arrow:before {content: \"▸\";float: left;margin-right: 0.25em;color: #696969;}#sk-container-id-17 label.sk-toggleable__label-arrow:hover:before {color: black;}#sk-container-id-17 div.sk-estimator:hover label.sk-toggleable__label-arrow:before {color: black;}#sk-container-id-17 div.sk-toggleable__content {max-height: 0;max-width: 0;overflow: hidden;text-align: left;background-color: #f0f8ff;}#sk-container-id-17 div.sk-toggleable__content pre {margin: 0.2em;color: black;border-radius: 0.25em;background-color: #f0f8ff;}#sk-container-id-17 input.sk-toggleable__control:checked~div.sk-toggleable__content {max-height: 200px;max-width: 100%;overflow: auto;}#sk-container-id-17 input.sk-toggleable__control:checked~label.sk-toggleable__label-arrow:before {content: \"▾\";}#sk-container-id-17 div.sk-estimator input.sk-toggleable__control:checked~label.sk-toggleable__label {background-color: #d4ebff;}#sk-container-id-17 div.sk-label input.sk-toggleable__control:checked~label.sk-toggleable__label {background-color: #d4ebff;}#sk-container-id-17 input.sk-hidden--visually {border: 0;clip: rect(1px 1px 1px 1px);clip: rect(1px, 1px, 1px, 1px);height: 1px;margin: -1px;overflow: hidden;padding: 0;position: absolute;width: 1px;}#sk-container-id-17 div.sk-estimator {font-family: monospace;background-color: #f0f8ff;border: 1px dotted black;border-radius: 0.25em;box-sizing: border-box;margin-bottom: 0.5em;}#sk-container-id-17 div.sk-estimator:hover {background-color: #d4ebff;}#sk-container-id-17 div.sk-parallel-item::after {content: \"\";width: 100%;border-bottom: 1px solid gray;flex-grow: 1;}#sk-container-id-17 div.sk-label:hover label.sk-toggleable__label {background-color: #d4ebff;}#sk-container-id-17 div.sk-serial::before {content: \"\";position: absolute;border-left: 1px solid gray;box-sizing: border-box;top: 0;bottom: 0;left: 50%;z-index: 0;}#sk-container-id-17 div.sk-serial {display: flex;flex-direction: column;align-items: center;background-color: white;padding-right: 0.2em;padding-left: 0.2em;position: relative;}#sk-container-id-17 div.sk-item {position: relative;z-index: 1;}#sk-container-id-17 div.sk-parallel {display: flex;align-items: stretch;justify-content: center;background-color: white;position: relative;}#sk-container-id-17 div.sk-item::before, #sk-container-id-17 div.sk-parallel-item::before {content: \"\";position: absolute;border-left: 1px solid gray;box-sizing: border-box;top: 0;bottom: 0;left: 50%;z-index: -1;}#sk-container-id-17 div.sk-parallel-item {display: flex;flex-direction: column;z-index: 1;position: relative;background-color: white;}#sk-container-id-17 div.sk-parallel-item:first-child::after {align-self: flex-end;width: 50%;}#sk-container-id-17 div.sk-parallel-item:last-child::after {align-self: flex-start;width: 50%;}#sk-container-id-17 div.sk-parallel-item:only-child::after {width: 0;}#sk-container-id-17 div.sk-dashed-wrapped {border: 1px dashed gray;margin: 0 0.4em 0.5em 0.4em;box-sizing: border-box;padding-bottom: 0.4em;background-color: white;}#sk-container-id-17 div.sk-label label {font-family: monospace;font-weight: bold;display: inline-block;line-height: 1.2em;}#sk-container-id-17 div.sk-label-container {text-align: center;}#sk-container-id-17 div.sk-container {/* jupyter's `normalize.less` sets `[hidden] { display: none; }` but bootstrap.min.css set `[hidden] { display: none !important; }` so we also need the `!important` here to be able to override the default hidden behavior on the sphinx rendered scikit-learn.org. See: https://github.com/scikit-learn/scikit-learn/issues/21755 */display: inline-block !important;position: relative;}#sk-container-id-17 div.sk-text-repr-fallback {display: none;}</style><div id=\"sk-container-id-17\" class=\"sk-top-container\"><div class=\"sk-text-repr-fallback\"><pre>GradientBoostingClassifier(random_state=42)</pre><b>In a Jupyter environment, please rerun this cell to show the HTML representation or trust the notebook. <br />On GitHub, the HTML representation is unable to render, please try loading this page with nbviewer.org.</b></div><div class=\"sk-container\" hidden><div class=\"sk-item\"><div class=\"sk-estimator sk-toggleable\"><input class=\"sk-toggleable__control sk-hidden--visually\" id=\"sk-estimator-id-17\" type=\"checkbox\" checked><label for=\"sk-estimator-id-17\" class=\"sk-toggleable__label sk-toggleable__label-arrow\">GradientBoostingClassifier</label><div class=\"sk-toggleable__content\"><pre>GradientBoostingClassifier(random_state=42)</pre></div></div></div></div></div>"
            ]
          },
          "metadata": {},
          "execution_count": 271
        }
      ],
      "source": [
        "# Инициализация модели градиентного бустинга\n",
        "model = GradientBoostingClassifier(random_state=42)\n",
        "\n",
        "# Обучение модели\n",
        "model.fit(X_train, y_train,)\n"
      ]
    },
    {
      "cell_type": "markdown",
      "metadata": {
        "id": "aQnEUViqaOSY"
      },
      "source": [
        "Зададим score таким образом. В зависимости от того, какое значение score мы выберем, будет изменяться precision и recall. Чем выше score, тем выше precision и ниже recall. То есть более высокая точность/вероятность того, что я предскажу появление аурор, исходя из обучающих данных. Но тем меньше точность/вероятность, что если было сияние, то я его предскажу, что оно было.\n",
        "\n",
        "А если уменьшаем score, то наоборот precision ниже, а recall выше."
      ]
    },
    {
      "cell_type": "markdown",
      "metadata": {
        "id": "H9sFZCChf3g9"
      },
      "source": [
        "Пояснить код:\n",
        "\n",
        "score - бинарный вектор предсказаний модели. True означает, что модель предсказывает \"да, будет полярное сияние\", а False — \"нет, не будет\".\n",
        "\n",
        "precision (Точность) - доля правильных предсказаний класса \"да\" среди всех предсказанных \"да\". Выражается как TP / (TP + FP), где TP — количество истинно положительных результатов, а FP — количество ложно положительных.\n",
        "\n",
        "recall (Полнота) - доля правильных предсказаний класса \"да\" среди всех истинных \"да\". Выражается как TP / (TP + FN), где FN — количество ложно отрицательных.\n",
        "\n",
        "f1-score - среднее гармоническое между precision и recall. Эта метрика полезна, когда нужно сбалансировать обе метрики. Вычисляется как 2 * (precision * recall) / (precision + recall).\n",
        "\n",
        "support - количество истинных примеров для каждого класса в y_test."
      ]
    },
    {
      "cell_type": "code",
      "execution_count": null,
      "metadata": {
        "colab": {
          "base_uri": "https://localhost:8080/"
        },
        "id": "YYVBJhsWY0XW",
        "outputId": "4cbb1b86-395b-471e-f01b-259be68632d0"
      },
      "outputs": [
        {
          "output_type": "stream",
          "name": "stdout",
          "text": [
            "Test Accuracy: 0.93\n",
            "              precision    recall  f1-score   support\n",
            "\n",
            "           0       0.94      0.99      0.96       407\n",
            "           1       0.62      0.16      0.25        32\n",
            "\n",
            "    accuracy                           0.93       439\n",
            "   macro avg       0.78      0.57      0.61       439\n",
            "weighted avg       0.91      0.93      0.91       439\n",
            "\n",
            "[[404   3]\n",
            " [ 27   5]]\n"
          ]
        }
      ],
      "source": [
        "score = model.predict_proba(X_test)[:, 1]\n",
        "score = score >= 0.8\n",
        "# Оценка точности модели\n",
        "accuracy = accuracy_score(y_test, score)\n",
        "print(f'Test Accuracy: {accuracy:.2f}')\n",
        "\n",
        "# Дополнительные метрики\n",
        "print(classification_report(y_test, score))\n",
        "\n",
        "# Матрица ошибок\n",
        "print(confusion_matrix(y_test, score))"
      ]
    },
    {
      "cell_type": "markdown",
      "metadata": {
        "id": "OosAt0rKx8MR"
      },
      "source": [
        "Визуализируем матрицу ошибок:"
      ]
    },
    {
      "cell_type": "code",
      "execution_count": null,
      "metadata": {
        "colab": {
          "base_uri": "https://localhost:8080/",
          "height": 451
        },
        "id": "Ne606kF9x-9T",
        "outputId": "9cb16b2b-09e7-446c-dd04-50d46c443d0a"
      },
      "outputs": [
        {
          "output_type": "display_data",
          "data": {
            "text/plain": [
              "<Figure size 640x480 with 2 Axes>"
            ],
            "image/png": "[encoded data removed]"
          },
          "metadata": {}
        }
      ],
      "source": [
        "import seaborn as sns\n",
        "import matplotlib.pyplot as plt\n",
        "from sklearn.metrics import confusion_matrix\n",
        "\n",
        "# Вычисление матрицы ошибок\n",
        "cm = confusion_matrix(y_test, score)\n",
        "\n",
        "# Визуализация\n",
        "sns.heatmap(cm, annot=True, fmt='d', cmap='Blues', xticklabels=['No', 'Yes'], yticklabels=['No', 'Yes'])\n",
        "plt.xlabel('Predicted')\n",
        "plt.ylabel('Actual')\n",
        "plt.show()\n"
      ]
    },
    {
      "cell_type": "code",
      "execution_count": null,
      "metadata": {
        "colab": {
          "base_uri": "https://localhost:8080/",
          "height": 545
        },
        "id": "l0jZfHleZt0K",
        "outputId": "3844e4cb-f11d-4415-fb57-2d7d4a4cf6b3"
      },
      "outputs": [
        {
          "output_type": "display_data",
          "data": {
            "text/plain": [
              "<Figure size 1000x600 with 1 Axes>"
            ],
            "image/png": "[encoded data removed]"
          },
          "metadata": {}
        }
      ],
      "source": [
        "import matplotlib.pyplot as plt\n",
        "import seaborn as sns\n",
        "\n",
        "# Важность признаков\n",
        "feature_importances = model.feature_importances_\n",
        "\n",
        "# Визуализация\n",
        "plt.figure(figsize=(10, 6))\n",
        "sns.barplot(x=feature_importances, y=X.columns)\n",
        "plt.title('Важность признаков для модели Gradient Boosting')\n",
        "plt.show()\n"
      ]
    },
    {
      "cell_type": "markdown",
      "metadata": {
        "id": "8FsrruGyznjk"
      },
      "source": [
        "Пробуем улучшить модель, прописываем вручную характеристики:\n"
      ]
    },
    {
      "cell_type": "code",
      "execution_count": null,
      "metadata": {
        "id": "84BgjpGhzulQ"
      },
      "outputs": [],
      "source": [
        "from sklearn.ensemble import GradientBoostingClassifier\n",
        "\n",
        "model_new = GradientBoostingClassifier(\n",
        "    n_estimators=200, # увеличиили n_estimators до 200. По умолчанию было 100. Чем большедеревьев, тем лучше модель моет обучаться(но дольше будет работать).\n",
        "    learning_rate=0.05, # уменьшили скорость обучния до 0.05. По умолчанию 1. Меньшие значения могут повысить качество модели(но потребуют больше деревьев)\n",
        "    max_depth=4, # увеличим макс глубину. По умолчанию было 3. Чем глубже дерево, тем более сложные паттерны оно сможет улавливать(но это может привести к переобучению).\n",
        "    subsample=0.8, # долю обучаемых данных, которую используем для каждого дерева уменьшим до 0.8( по умолчанию 1.0)\n",
        "    min_samples_split=10, # минимальное количество образцов, необходимых для разбиения узла. Этот параметр поможет избежать переобучения.\n",
        "    min_samples_leaf=5, # минимальное количество образцов в листе. Этот параметр поможет избежать переобучения.\n",
        "    random_state=42 #\n",
        ")"
      ]
    },
    {
      "cell_type": "markdown",
      "metadata": {
        "id": "RXNjhyBP4Plj"
      },
      "source": [
        "Сравнение насколько улучшилась или ухудшилась модель при попытке прописать вручную характеристки для град. бустинга:"
      ]
    },
    {
      "cell_type": "code",
      "execution_count": null,
      "metadata": {
        "colab": {
          "base_uri": "https://localhost:8080/"
        },
        "id": "ius4h8QB81sO",
        "outputId": "ccf3ad24-8fe1-49dc-aece-ba442205a3da"
      },
      "outputs": [
        {
          "output_type": "stream",
          "name": "stdout",
          "text": [
            "Результаты старой модели:\n",
            "Test Accuracy: 0.93\n",
            "              precision    recall  f1-score   support\n",
            "\n",
            "           0       0.94      0.99      0.96       407\n",
            "           1       0.62      0.16      0.25        32\n",
            "\n",
            "    accuracy                           0.93       439\n",
            "   macro avg       0.78      0.57      0.61       439\n",
            "weighted avg       0.91      0.93      0.91       439\n",
            "\n",
            "Матрица ошибок:\n",
            "[[404   3]\n",
            " [ 27   5]]\n",
            "\n",
            "Результаты модернизированной модели:\n",
            "Test Accuracy: 0.93\n",
            "              precision    recall  f1-score   support\n",
            "\n",
            "           0       0.94      0.99      0.96       407\n",
            "           1       0.57      0.12      0.21        32\n",
            "\n",
            "    accuracy                           0.93       439\n",
            "   macro avg       0.75      0.56      0.58       439\n",
            "weighted avg       0.91      0.93      0.91       439\n",
            "\n",
            "Матрица ошибок:\n",
            "[[404   3]\n",
            " [ 28   4]]\n",
            "\n",
            "Изменение точности: -0.00\n"
          ]
        }
      ],
      "source": [
        "from sklearn.ensemble import GradientBoostingClassifier\n",
        "from sklearn.metrics import accuracy_score, classification_report, confusion_matrix\n",
        "\n",
        "# Сохранение метрик для старой модели\n",
        "def evaluate_model(model, X_train, X_test, y_train, y_test):\n",
        "    model.fit(X_train, y_train)\n",
        "    score = model.predict_proba(X_test)[:, 1]\n",
        "    score = score >= 0.8  # порог 0.8\n",
        "    accuracy = accuracy_score(y_test, score)\n",
        "    print(f'Test Accuracy: {accuracy:.2f}')\n",
        "    print(classification_report(y_test, score))\n",
        "    print('Матрица ошибок:')\n",
        "    print(confusion_matrix(y_test, score))\n",
        "    return accuracy\n",
        "\n",
        "# Инициализация старой модели\n",
        "model_old = GradientBoostingClassifier(random_state=42)\n",
        "\n",
        "print(\"Результаты старой модели:\")\n",
        "accuracy_old = evaluate_model(model_old, X_train, X_test, y_train, y_test)\n",
        "\n",
        "# Инициализация модернизированной модели\n",
        "model_new = GradientBoostingClassifier(\n",
        "    n_estimators=200,\n",
        "    learning_rate=0.05,\n",
        "    max_depth=4,\n",
        "    subsample=0.8,\n",
        "    min_samples_split=10,\n",
        "    min_samples_leaf=5,\n",
        "    random_state=42\n",
        ")\n",
        "\n",
        "print(\"\\nРезультаты модернизированной модели:\")\n",
        "accuracy_new = evaluate_model(model_new, X_train, X_test, y_train, y_test)\n",
        "\n",
        "# Сравнение точности\n",
        "print(f\"\\nИзменение точности: {accuracy_new - accuracy_old:.2f}\")\n"
      ]
    },
    {
      "cell_type": "markdown",
      "metadata": {
        "id": "gA-5fni0-gpc"
      },
      "source": [
        "Визуализируем:"
      ]
    },
    {
      "cell_type": "code",
      "execution_count": null,
      "metadata": {
        "colab": {
          "base_uri": "https://localhost:8080/",
          "height": 995
        },
        "id": "KPVu6Yrt-ihO",
        "outputId": "d2f66bdf-90dd-4d34-9056-fb2b6f9410ca"
      },
      "outputs": [
        {
          "output_type": "stream",
          "name": "stdout",
          "text": [
            "\n",
            "Матрица ошибок для старой модели:\n"
          ]
        },
        {
          "output_type": "display_data",
          "data": {
            "text/plain": [
              "<Figure size 640x480 with 2 Axes>"
            ],
            "image/png": "[encoded data removed]"
          },
          "metadata": {}
        },
        {
          "output_type": "stream",
          "name": "stdout",
          "text": [
            "\n",
            "Матрица ошибок для модернизированной модели:\n"
          ]
        },
        {
          "output_type": "display_data",
          "data": {
            "text/plain": [
              "<Figure size 640x480 with 2 Axes>"
            ],
            "image/png": "[encoded data removed]"
          },
          "metadata": {}
        }
      ],
      "source": [
        "import matplotlib.pyplot as plt\n",
        "import seaborn as sns\n",
        "\n",
        "# Матрица ошибок для визуализации\n",
        "def plot_confusion_matrix(model, X_test, y_test, title):\n",
        "    score = model.predict_proba(X_test)[:, 1]\n",
        "    score = score >= 0.8  # порог 0.8\n",
        "    cm = confusion_matrix(y_test, score)\n",
        "    sns.heatmap(cm, annot=True, fmt='d', cmap='Blues')\n",
        "    plt.title(title)\n",
        "    plt.xlabel('Предсказанный класс')\n",
        "    plt.ylabel('Настоящий класс')\n",
        "    plt.show()\n",
        "\n",
        "# Визуализация матриц ошибок для двух моделей\n",
        "print(\"\\nМатрица ошибок для старой модели:\")\n",
        "plot_confusion_matrix(model_old, X_test, y_test, 'Старая модель')\n",
        "\n",
        "print(\"\\nМатрица ошибок для модернизированной модели:\")\n",
        "plot_confusion_matrix(model_new, X_test, y_test, 'Модернизированная модель')\n"
      ]
    },
    {
      "cell_type": "markdown",
      "metadata": {
        "id": "-C5sLVDI9hiw"
      },
      "source": [
        "Не особо что-то улучшилось. Жаль.\n",
        "Попробуем по-другому улучшить. Зададим accuracy_score по-другому:"
      ]
    },
    {
      "cell_type": "markdown",
      "metadata": {
        "id": "PeOoU_6jfCUv"
      },
      "source": [
        "Другой способ задания accuracy_score\n",
        "\n",
        "\n"
      ]
    },
    {
      "cell_type": "code",
      "execution_count": null,
      "metadata": {
        "colab": {
          "base_uri": "https://localhost:8080/"
        },
        "id": "f1Lvt007Ax8x",
        "outputId": "f9ee3bc8-ef67-42fd-caa9-a61e0b7aa48c"
      },
      "outputs": [
        {
          "output_type": "stream",
          "name": "stdout",
          "text": [
            "Точность (Accuracy): 0.93\n",
            "Precision (Точность): 0.50\n",
            "Recall (Полнота): 0.16\n",
            "F1-Score: 0.24\n",
            "AUC-ROC: 0.83\n"
          ]
        }
      ],
      "source": [
        "from sklearn.metrics import accuracy_score, precision_score, recall_score, f1_score, roc_auc_score\n",
        "\n",
        "# Предсказания вероятностей\n",
        "y_prob = model.predict_proba(X_test)[:, 1]\n",
        "\n",
        "# Изменение порога классификации (например, 0.7)\n",
        "y_pred = (y_prob >= 0.7).astype(int)\n",
        "\n",
        "# Оценка метрик\n",
        "accuracy = accuracy_score(y_test, y_pred)\n",
        "precision = precision_score(y_test, y_pred)\n",
        "recall = recall_score(y_test, y_pred)\n",
        "f1 = f1_score(y_test, y_pred)\n",
        "auc_roc = roc_auc_score(y_test, y_prob)\n",
        "\n",
        "print(f\"Точность (Accuracy): {accuracy:.2f}\")\n",
        "print(f\"Precision (Точность): {precision:.2f}\")\n",
        "print(f\"Recall (Полнота): {recall:.2f}\")\n",
        "print(f\"F1-Score: {f1:.2f}\")\n",
        "print(f\"AUC-ROC: {auc_roc:.2f}\")\n"
      ]
    },
    {
      "cell_type": "code",
      "execution_count": null,
      "metadata": {
        "id": "fttqPPQWBI2H"
      },
      "outputs": [],
      "source": []
    },
    {
      "cell_type": "markdown",
      "source": [
        "# Логистическая регрессия"
      ],
      "metadata": {
        "id": "gDKZnMp23878"
      }
    },
    {
      "cell_type": "code",
      "source": [
        "import pandas as pd\n",
        "from sklearn.model_selection import train_test_split\n",
        "from sklearn.linear_model import LogisticRegression\n",
        "from sklearn.metrics import accuracy_score, precision_score, recall_score, f1_score, confusion_matrix\n",
        "\n",
        "\n",
        "# Создаем и обучаем модель логистической регрессии\n",
        "model = LogisticRegression()\n",
        "model.fit(X_train, y_train)\n",
        "\n",
        "# Делаем предсказания на тестовой выборке\n",
        "y_pred = model.predict(X_test)\n",
        "\n",
        "# Оценка модели\n",
        "accuracy = accuracy_score(y_test, y_pred)\n",
        "precision = precision_score(y_test, y_pred)\n",
        "recall = recall_score(y_test, y_pred)\n",
        "f1 = f1_score(y_test, y_pred)\n",
        "conf_matrix = confusion_matrix(y_test, y_pred)\n",
        "\n",
        "print(f'Accuracy: {accuracy:.2f}')\n",
        "print(f'Precision: {precision:.2f}')\n",
        "print(f'Recall: {recall:.2f}')\n",
        "print(f'F1-score: {f1:.2f}')\n",
        "print('Confusion Matrix:')\n",
        "print(conf_matrix)\n"
      ],
      "metadata": {
        "colab": {
          "base_uri": "https://localhost:8080/"
        },
        "id": "oufpYAsJ3_tf",
        "outputId": "cf5df38f-e830-4012-c0ce-44b008a1a017"
      },
      "execution_count": null,
      "outputs": [
        {
          "output_type": "stream",
          "name": "stdout",
          "text": [
            "Accuracy: 0.91\n",
            "Precision: 0.23\n",
            "Recall: 0.09\n",
            "F1-score: 0.13\n",
            "Confusion Matrix:\n",
            "[[397  10]\n",
            " [ 29   3]]\n"
          ]
        },
        {
          "output_type": "stream",
          "name": "stderr",
          "text": [
            "/usr/local/lib/python3.10/dist-packages/sklearn/linear_model/_logistic.py:458: ConvergenceWarning: lbfgs failed to converge (status=1):\n",
            "STOP: TOTAL NO. of ITERATIONS REACHED LIMIT.\n",
            "\n",
            "Increase the number of iterations (max_iter) or scale the data as shown in:\n",
            "    https://scikit-learn.org/stable/modules/preprocessing.html\n",
            "Please also refer to the documentation for alternative solver options:\n",
            "    https://scikit-learn.org/stable/modules/linear_model.html#logistic-regression\n",
            "  n_iter_i = _check_optimize_result(\n"
          ]
        }
      ]
    }
  ],
  "metadata": {
    "colab": {
      "provenance": []
    },
    "kernelspec": {
      "display_name": "Python 3",
      "name": "python3"
    },
    "language_info": {
      "name": "python"
    }
  },
  "nbformat": 4,
  "nbformat_minor": 0
}